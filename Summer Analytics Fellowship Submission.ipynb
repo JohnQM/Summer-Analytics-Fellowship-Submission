{
 "cells": [
  {
   "cell_type": "code",
   "execution_count": 16,
   "metadata": {},
   "outputs": [],
   "source": [
    "import numpy as np\n",
    "import pandas as pd\n",
    "import seaborn as sns\n",
    "import matplotlib.pyplot as plt\n",
    "%matplotlib inline"
   ]
  },
  {
   "cell_type": "code",
   "execution_count": 17,
   "metadata": {},
   "outputs": [],
   "source": [
    "boston_311_data = pd.read_csv('/Users/johnmorales/Desktop/tmp5x4m4b_o.csv')"
   ]
  },
  {
   "cell_type": "code",
   "execution_count": 18,
   "metadata": {
    "scrolled": true
   },
   "outputs": [
    {
     "data": {
      "text/html": [
       "<div>\n",
       "<style scoped>\n",
       "    .dataframe tbody tr th:only-of-type {\n",
       "        vertical-align: middle;\n",
       "    }\n",
       "\n",
       "    .dataframe tbody tr th {\n",
       "        vertical-align: top;\n",
       "    }\n",
       "\n",
       "    .dataframe thead th {\n",
       "        text-align: right;\n",
       "    }\n",
       "</style>\n",
       "<table border=\"1\" class=\"dataframe\">\n",
       "  <thead>\n",
       "    <tr style=\"text-align: right;\">\n",
       "      <th></th>\n",
       "      <th>case_enquiry_id</th>\n",
       "      <th>location_zipcode</th>\n",
       "      <th>latitude</th>\n",
       "      <th>longitude</th>\n",
       "    </tr>\n",
       "  </thead>\n",
       "  <tbody>\n",
       "    <tr>\n",
       "      <th>count</th>\n",
       "      <td>3.577400e+04</td>\n",
       "      <td>27313.000000</td>\n",
       "      <td>35774.00000</td>\n",
       "      <td>35774.000000</td>\n",
       "    </tr>\n",
       "    <tr>\n",
       "      <th>mean</th>\n",
       "      <td>1.010030e+11</td>\n",
       "      <td>2126.745433</td>\n",
       "      <td>42.33341</td>\n",
       "      <td>-71.077099</td>\n",
       "    </tr>\n",
       "    <tr>\n",
       "      <th>std</th>\n",
       "      <td>0.000000e+00</td>\n",
       "      <td>17.048493</td>\n",
       "      <td>0.03336</td>\n",
       "      <td>0.033273</td>\n",
       "    </tr>\n",
       "    <tr>\n",
       "      <th>min</th>\n",
       "      <td>1.010030e+11</td>\n",
       "      <td>2108.000000</td>\n",
       "      <td>42.23210</td>\n",
       "      <td>-71.181000</td>\n",
       "    </tr>\n",
       "    <tr>\n",
       "      <th>25%</th>\n",
       "      <td>1.010030e+11</td>\n",
       "      <td>2119.000000</td>\n",
       "      <td>42.30950</td>\n",
       "      <td>-71.090600</td>\n",
       "    </tr>\n",
       "    <tr>\n",
       "      <th>50%</th>\n",
       "      <td>1.010030e+11</td>\n",
       "      <td>2125.000000</td>\n",
       "      <td>42.34320</td>\n",
       "      <td>-71.065000</td>\n",
       "    </tr>\n",
       "    <tr>\n",
       "      <th>75%</th>\n",
       "      <td>1.010030e+11</td>\n",
       "      <td>2130.000000</td>\n",
       "      <td>42.35940</td>\n",
       "      <td>-71.058700</td>\n",
       "    </tr>\n",
       "    <tr>\n",
       "      <th>max</th>\n",
       "      <td>1.010030e+11</td>\n",
       "      <td>2467.000000</td>\n",
       "      <td>42.39330</td>\n",
       "      <td>-70.995100</td>\n",
       "    </tr>\n",
       "  </tbody>\n",
       "</table>\n",
       "</div>"
      ],
      "text/plain": [
       "       case_enquiry_id  location_zipcode     latitude     longitude\n",
       "count     3.577400e+04      27313.000000  35774.00000  35774.000000\n",
       "mean      1.010030e+11       2126.745433     42.33341    -71.077099\n",
       "std       0.000000e+00         17.048493      0.03336      0.033273\n",
       "min       1.010030e+11       2108.000000     42.23210    -71.181000\n",
       "25%       1.010030e+11       2119.000000     42.30950    -71.090600\n",
       "50%       1.010030e+11       2125.000000     42.34320    -71.065000\n",
       "75%       1.010030e+11       2130.000000     42.35940    -71.058700\n",
       "max       1.010030e+11       2467.000000     42.39330    -70.995100"
      ]
     },
     "execution_count": 18,
     "metadata": {},
     "output_type": "execute_result"
    }
   ],
   "source": [
    "boston_311_data.describe()"
   ]
  },
  {
   "cell_type": "code",
   "execution_count": 19,
   "metadata": {},
   "outputs": [
    {
     "data": {
      "text/html": [
       "<div>\n",
       "<style scoped>\n",
       "    .dataframe tbody tr th:only-of-type {\n",
       "        vertical-align: middle;\n",
       "    }\n",
       "\n",
       "    .dataframe tbody tr th {\n",
       "        vertical-align: top;\n",
       "    }\n",
       "\n",
       "    .dataframe thead th {\n",
       "        text-align: right;\n",
       "    }\n",
       "</style>\n",
       "<table border=\"1\" class=\"dataframe\">\n",
       "  <thead>\n",
       "    <tr style=\"text-align: right;\">\n",
       "      <th></th>\n",
       "      <th>case_enquiry_id</th>\n",
       "      <th>open_dt</th>\n",
       "      <th>target_dt</th>\n",
       "      <th>closed_dt</th>\n",
       "      <th>ontime</th>\n",
       "      <th>case_status</th>\n",
       "      <th>closure_reason</th>\n",
       "      <th>case_title</th>\n",
       "      <th>subject</th>\n",
       "      <th>reason</th>\n",
       "      <th>...</th>\n",
       "      <th>police_district</th>\n",
       "      <th>neighborhood</th>\n",
       "      <th>neighborhood_services_district</th>\n",
       "      <th>ward</th>\n",
       "      <th>precinct</th>\n",
       "      <th>location_street_name</th>\n",
       "      <th>location_zipcode</th>\n",
       "      <th>latitude</th>\n",
       "      <th>longitude</th>\n",
       "      <th>source</th>\n",
       "    </tr>\n",
       "  </thead>\n",
       "  <tbody>\n",
       "    <tr>\n",
       "      <th>0</th>\n",
       "      <td>1.010030e+11</td>\n",
       "      <td>1/13/20 9:33</td>\n",
       "      <td>1/28/20 9:33</td>\n",
       "      <td>NaN</td>\n",
       "      <td>OVERDUE</td>\n",
       "      <td>Open</td>\n",
       "      <td></td>\n",
       "      <td>PRINTED // Street Light Outages  //  GAS // ...</td>\n",
       "      <td>Public Works Department</td>\n",
       "      <td>Street Lights</td>\n",
       "      <td>...</td>\n",
       "      <td>A1</td>\n",
       "      <td>Beacon Hill</td>\n",
       "      <td>3</td>\n",
       "      <td>Ward 3</td>\n",
       "      <td>306</td>\n",
       "      <td>29 Myrtle St</td>\n",
       "      <td>2114.0</td>\n",
       "      <td>42.3594</td>\n",
       "      <td>-71.0657</td>\n",
       "      <td>Citizens Connect App</td>\n",
       "    </tr>\n",
       "    <tr>\n",
       "      <th>1</th>\n",
       "      <td>1.010030e+11</td>\n",
       "      <td>1/12/20 19:47</td>\n",
       "      <td>1/28/20 8:30</td>\n",
       "      <td>1/30/20 15:27</td>\n",
       "      <td>OVERDUE</td>\n",
       "      <td>Closed</td>\n",
       "      <td>Case Closed Case Resolved  Replaced photocell ...</td>\n",
       "      <td>\"All Street Lights Out.\" (Check Overhead) ///I...</td>\n",
       "      <td>Public Works Department</td>\n",
       "      <td>Street Lights</td>\n",
       "      <td>...</td>\n",
       "      <td>D4</td>\n",
       "      <td>Back Bay</td>\n",
       "      <td>14</td>\n",
       "      <td>Ward 5</td>\n",
       "      <td>509</td>\n",
       "      <td>290 Commonwealth Ave</td>\n",
       "      <td>2115.0</td>\n",
       "      <td>42.3496</td>\n",
       "      <td>-71.0848</td>\n",
       "      <td>Citizens Connect App</td>\n",
       "    </tr>\n",
       "    <tr>\n",
       "      <th>2</th>\n",
       "      <td>1.010030e+11</td>\n",
       "      <td>1/1/20 16:19</td>\n",
       "      <td>NaN</td>\n",
       "      <td>1/13/20 16:27</td>\n",
       "      <td>ONTIME</td>\n",
       "      <td>Closed</td>\n",
       "      <td>Case Closed. Closed date : 2020-01-13 16:27:37...</td>\n",
       "      <td>Abandoned Bicycle</td>\n",
       "      <td>Mayor's 24 Hour Hotline</td>\n",
       "      <td>Abandoned Bicycle</td>\n",
       "      <td>...</td>\n",
       "      <td>C11</td>\n",
       "      <td>Dorchester</td>\n",
       "      <td>7</td>\n",
       "      <td>Ward 16</td>\n",
       "      <td>1611</td>\n",
       "      <td>461 Gallivan Blvd</td>\n",
       "      <td>2124.0</td>\n",
       "      <td>42.2820</td>\n",
       "      <td>-71.0580</td>\n",
       "      <td>Constituent Call</td>\n",
       "    </tr>\n",
       "    <tr>\n",
       "      <th>3</th>\n",
       "      <td>1.010030e+11</td>\n",
       "      <td>1/3/20 14:00</td>\n",
       "      <td>NaN</td>\n",
       "      <td>NaN</td>\n",
       "      <td>ONTIME</td>\n",
       "      <td>Open</td>\n",
       "      <td></td>\n",
       "      <td>Abandoned Bicycle</td>\n",
       "      <td>Mayor's 24 Hour Hotline</td>\n",
       "      <td>Abandoned Bicycle</td>\n",
       "      <td>...</td>\n",
       "      <td>D4</td>\n",
       "      <td>Boston</td>\n",
       "      <td>6</td>\n",
       "      <td>5</td>\n",
       "      <td>501</td>\n",
       "      <td>169-189 Columbus Ave</td>\n",
       "      <td>2116.0</td>\n",
       "      <td>42.3491</td>\n",
       "      <td>-71.0715</td>\n",
       "      <td>Citizens Connect App</td>\n",
       "    </tr>\n",
       "    <tr>\n",
       "      <th>4</th>\n",
       "      <td>1.010030e+11</td>\n",
       "      <td>1/4/20 16:41</td>\n",
       "      <td>NaN</td>\n",
       "      <td>NaN</td>\n",
       "      <td>ONTIME</td>\n",
       "      <td>Open</td>\n",
       "      <td></td>\n",
       "      <td>Abandoned Bicycle</td>\n",
       "      <td>Mayor's 24 Hour Hotline</td>\n",
       "      <td>Abandoned Bicycle</td>\n",
       "      <td>...</td>\n",
       "      <td>D4</td>\n",
       "      <td>South End</td>\n",
       "      <td>6</td>\n",
       "      <td>4</td>\n",
       "      <td>404</td>\n",
       "      <td>INTERSECTION Claremont St &amp; Wellington St</td>\n",
       "      <td>NaN</td>\n",
       "      <td>42.3594</td>\n",
       "      <td>-71.0587</td>\n",
       "      <td>Citizens Connect App</td>\n",
       "    </tr>\n",
       "  </tbody>\n",
       "</table>\n",
       "<p>5 rows × 29 columns</p>\n",
       "</div>"
      ],
      "text/plain": [
       "   case_enquiry_id        open_dt     target_dt      closed_dt   ontime  \\\n",
       "0     1.010030e+11   1/13/20 9:33  1/28/20 9:33            NaN  OVERDUE   \n",
       "1     1.010030e+11  1/12/20 19:47  1/28/20 8:30  1/30/20 15:27  OVERDUE   \n",
       "2     1.010030e+11   1/1/20 16:19           NaN  1/13/20 16:27   ONTIME   \n",
       "3     1.010030e+11   1/3/20 14:00           NaN            NaN   ONTIME   \n",
       "4     1.010030e+11   1/4/20 16:41           NaN            NaN   ONTIME   \n",
       "\n",
       "  case_status                                     closure_reason  \\\n",
       "0        Open                                                      \n",
       "1      Closed  Case Closed Case Resolved  Replaced photocell ...   \n",
       "2      Closed  Case Closed. Closed date : 2020-01-13 16:27:37...   \n",
       "3        Open                                                      \n",
       "4        Open                                                      \n",
       "\n",
       "                                          case_title                  subject  \\\n",
       "0    PRINTED // Street Light Outages  //  GAS // ...  Public Works Department   \n",
       "1  \"All Street Lights Out.\" (Check Overhead) ///I...  Public Works Department   \n",
       "2                                  Abandoned Bicycle  Mayor's 24 Hour Hotline   \n",
       "3                                  Abandoned Bicycle  Mayor's 24 Hour Hotline   \n",
       "4                                  Abandoned Bicycle  Mayor's 24 Hour Hotline   \n",
       "\n",
       "              reason          ...          police_district neighborhood  \\\n",
       "0      Street Lights          ...                       A1  Beacon Hill   \n",
       "1      Street Lights          ...                       D4     Back Bay   \n",
       "2  Abandoned Bicycle          ...                      C11   Dorchester   \n",
       "3  Abandoned Bicycle          ...                       D4       Boston   \n",
       "4  Abandoned Bicycle          ...                       D4    South End   \n",
       "\n",
       "  neighborhood_services_district     ward precinct  \\\n",
       "0                              3   Ward 3      306   \n",
       "1                             14   Ward 5      509   \n",
       "2                              7  Ward 16     1611   \n",
       "3                              6        5      501   \n",
       "4                              6        4      404   \n",
       "\n",
       "                        location_street_name location_zipcode latitude  \\\n",
       "0                               29 Myrtle St           2114.0  42.3594   \n",
       "1                       290 Commonwealth Ave           2115.0  42.3496   \n",
       "2                          461 Gallivan Blvd           2124.0  42.2820   \n",
       "3                       169-189 Columbus Ave           2116.0  42.3491   \n",
       "4  INTERSECTION Claremont St & Wellington St              NaN  42.3594   \n",
       "\n",
       "  longitude                source  \n",
       "0  -71.0657  Citizens Connect App  \n",
       "1  -71.0848  Citizens Connect App  \n",
       "2  -71.0580      Constituent Call  \n",
       "3  -71.0715  Citizens Connect App  \n",
       "4  -71.0587  Citizens Connect App  \n",
       "\n",
       "[5 rows x 29 columns]"
      ]
     },
     "execution_count": 19,
     "metadata": {},
     "output_type": "execute_result"
    }
   ],
   "source": [
    "boston_311_data.head()"
   ]
  },
  {
   "cell_type": "code",
   "execution_count": 20,
   "metadata": {},
   "outputs": [],
   "source": [
    "boston_311_data = boston_311_data.drop([\"case_enquiry_id\",\"closure_reason\",\n",
    "                                        \"queue\",\"fire_district\",\"pwd_district\",\"city_council_district\",\n",
    "                                        \"police_district\",\"ward\",\"closedphoto\",\"location\",\"precinct\"],axis=1)"
   ]
  },
  {
   "cell_type": "code",
   "execution_count": 21,
   "metadata": {},
   "outputs": [
    {
     "data": {
      "text/plain": [
       "(35774, 18)"
      ]
     },
     "execution_count": 21,
     "metadata": {},
     "output_type": "execute_result"
    }
   ],
   "source": [
    "boston_311_data.shape"
   ]
  },
  {
   "cell_type": "code",
   "execution_count": 22,
   "metadata": {},
   "outputs": [
    {
     "data": {
      "text/html": [
       "<div>\n",
       "<style scoped>\n",
       "    .dataframe tbody tr th:only-of-type {\n",
       "        vertical-align: middle;\n",
       "    }\n",
       "\n",
       "    .dataframe tbody tr th {\n",
       "        vertical-align: top;\n",
       "    }\n",
       "\n",
       "    .dataframe thead th {\n",
       "        text-align: right;\n",
       "    }\n",
       "</style>\n",
       "<table border=\"1\" class=\"dataframe\">\n",
       "  <thead>\n",
       "    <tr style=\"text-align: right;\">\n",
       "      <th></th>\n",
       "      <th>open_dt</th>\n",
       "      <th>target_dt</th>\n",
       "      <th>closed_dt</th>\n",
       "      <th>ontime</th>\n",
       "      <th>case_status</th>\n",
       "      <th>case_title</th>\n",
       "      <th>subject</th>\n",
       "      <th>reason</th>\n",
       "      <th>type</th>\n",
       "      <th>department</th>\n",
       "      <th>submittedphoto</th>\n",
       "      <th>neighborhood</th>\n",
       "      <th>neighborhood_services_district</th>\n",
       "      <th>location_street_name</th>\n",
       "      <th>location_zipcode</th>\n",
       "      <th>latitude</th>\n",
       "      <th>longitude</th>\n",
       "      <th>source</th>\n",
       "    </tr>\n",
       "  </thead>\n",
       "  <tbody>\n",
       "    <tr>\n",
       "      <th>0</th>\n",
       "      <td>1/13/20 9:33</td>\n",
       "      <td>1/28/20 9:33</td>\n",
       "      <td>NaN</td>\n",
       "      <td>OVERDUE</td>\n",
       "      <td>Open</td>\n",
       "      <td>PRINTED // Street Light Outages  //  GAS // ...</td>\n",
       "      <td>Public Works Department</td>\n",
       "      <td>Street Lights</td>\n",
       "      <td>Street Light Outages</td>\n",
       "      <td>PWDx</td>\n",
       "      <td>NaN</td>\n",
       "      <td>Beacon Hill</td>\n",
       "      <td>3</td>\n",
       "      <td>29 Myrtle St</td>\n",
       "      <td>2114.0</td>\n",
       "      <td>42.3594</td>\n",
       "      <td>-71.0657</td>\n",
       "      <td>Citizens Connect App</td>\n",
       "    </tr>\n",
       "    <tr>\n",
       "      <th>1</th>\n",
       "      <td>1/12/20 19:47</td>\n",
       "      <td>1/28/20 8:30</td>\n",
       "      <td>1/30/20 15:27</td>\n",
       "      <td>OVERDUE</td>\n",
       "      <td>Closed</td>\n",
       "      <td>\"All Street Lights Out.\" (Check Overhead) ///I...</td>\n",
       "      <td>Public Works Department</td>\n",
       "      <td>Street Lights</td>\n",
       "      <td>Street Light Outages</td>\n",
       "      <td>PWDx</td>\n",
       "      <td>NaN</td>\n",
       "      <td>Back Bay</td>\n",
       "      <td>14</td>\n",
       "      <td>290 Commonwealth Ave</td>\n",
       "      <td>2115.0</td>\n",
       "      <td>42.3496</td>\n",
       "      <td>-71.0848</td>\n",
       "      <td>Citizens Connect App</td>\n",
       "    </tr>\n",
       "    <tr>\n",
       "      <th>2</th>\n",
       "      <td>1/1/20 16:19</td>\n",
       "      <td>NaN</td>\n",
       "      <td>1/13/20 16:27</td>\n",
       "      <td>ONTIME</td>\n",
       "      <td>Closed</td>\n",
       "      <td>Abandoned Bicycle</td>\n",
       "      <td>Mayor's 24 Hour Hotline</td>\n",
       "      <td>Abandoned Bicycle</td>\n",
       "      <td>Abandoned Bicycle</td>\n",
       "      <td>BTDT</td>\n",
       "      <td>NaN</td>\n",
       "      <td>Dorchester</td>\n",
       "      <td>7</td>\n",
       "      <td>461 Gallivan Blvd</td>\n",
       "      <td>2124.0</td>\n",
       "      <td>42.2820</td>\n",
       "      <td>-71.0580</td>\n",
       "      <td>Constituent Call</td>\n",
       "    </tr>\n",
       "    <tr>\n",
       "      <th>3</th>\n",
       "      <td>1/3/20 14:00</td>\n",
       "      <td>NaN</td>\n",
       "      <td>NaN</td>\n",
       "      <td>ONTIME</td>\n",
       "      <td>Open</td>\n",
       "      <td>Abandoned Bicycle</td>\n",
       "      <td>Mayor's 24 Hour Hotline</td>\n",
       "      <td>Abandoned Bicycle</td>\n",
       "      <td>Abandoned Bicycle</td>\n",
       "      <td>BTDT</td>\n",
       "      <td>NaN</td>\n",
       "      <td>Boston</td>\n",
       "      <td>6</td>\n",
       "      <td>169-189 Columbus Ave</td>\n",
       "      <td>2116.0</td>\n",
       "      <td>42.3491</td>\n",
       "      <td>-71.0715</td>\n",
       "      <td>Citizens Connect App</td>\n",
       "    </tr>\n",
       "    <tr>\n",
       "      <th>4</th>\n",
       "      <td>1/4/20 16:41</td>\n",
       "      <td>NaN</td>\n",
       "      <td>NaN</td>\n",
       "      <td>ONTIME</td>\n",
       "      <td>Open</td>\n",
       "      <td>Abandoned Bicycle</td>\n",
       "      <td>Mayor's 24 Hour Hotline</td>\n",
       "      <td>Abandoned Bicycle</td>\n",
       "      <td>Abandoned Bicycle</td>\n",
       "      <td>BTDT</td>\n",
       "      <td>https://311.boston.gov/media/boston/report/pho...</td>\n",
       "      <td>South End</td>\n",
       "      <td>6</td>\n",
       "      <td>INTERSECTION Claremont St &amp; Wellington St</td>\n",
       "      <td>NaN</td>\n",
       "      <td>42.3594</td>\n",
       "      <td>-71.0587</td>\n",
       "      <td>Citizens Connect App</td>\n",
       "    </tr>\n",
       "  </tbody>\n",
       "</table>\n",
       "</div>"
      ],
      "text/plain": [
       "         open_dt     target_dt      closed_dt   ontime case_status  \\\n",
       "0   1/13/20 9:33  1/28/20 9:33            NaN  OVERDUE        Open   \n",
       "1  1/12/20 19:47  1/28/20 8:30  1/30/20 15:27  OVERDUE      Closed   \n",
       "2   1/1/20 16:19           NaN  1/13/20 16:27   ONTIME      Closed   \n",
       "3   1/3/20 14:00           NaN            NaN   ONTIME        Open   \n",
       "4   1/4/20 16:41           NaN            NaN   ONTIME        Open   \n",
       "\n",
       "                                          case_title                  subject  \\\n",
       "0    PRINTED // Street Light Outages  //  GAS // ...  Public Works Department   \n",
       "1  \"All Street Lights Out.\" (Check Overhead) ///I...  Public Works Department   \n",
       "2                                  Abandoned Bicycle  Mayor's 24 Hour Hotline   \n",
       "3                                  Abandoned Bicycle  Mayor's 24 Hour Hotline   \n",
       "4                                  Abandoned Bicycle  Mayor's 24 Hour Hotline   \n",
       "\n",
       "              reason                  type department  \\\n",
       "0      Street Lights  Street Light Outages       PWDx   \n",
       "1      Street Lights  Street Light Outages       PWDx   \n",
       "2  Abandoned Bicycle     Abandoned Bicycle       BTDT   \n",
       "3  Abandoned Bicycle     Abandoned Bicycle       BTDT   \n",
       "4  Abandoned Bicycle     Abandoned Bicycle       BTDT   \n",
       "\n",
       "                                      submittedphoto neighborhood  \\\n",
       "0                                                NaN  Beacon Hill   \n",
       "1                                                NaN     Back Bay   \n",
       "2                                                NaN   Dorchester   \n",
       "3                                                NaN       Boston   \n",
       "4  https://311.boston.gov/media/boston/report/pho...    South End   \n",
       "\n",
       "  neighborhood_services_district                       location_street_name  \\\n",
       "0                              3                               29 Myrtle St   \n",
       "1                             14                       290 Commonwealth Ave   \n",
       "2                              7                          461 Gallivan Blvd   \n",
       "3                              6                       169-189 Columbus Ave   \n",
       "4                              6  INTERSECTION Claremont St & Wellington St   \n",
       "\n",
       "   location_zipcode  latitude  longitude                source  \n",
       "0            2114.0   42.3594   -71.0657  Citizens Connect App  \n",
       "1            2115.0   42.3496   -71.0848  Citizens Connect App  \n",
       "2            2124.0   42.2820   -71.0580      Constituent Call  \n",
       "3            2116.0   42.3491   -71.0715  Citizens Connect App  \n",
       "4               NaN   42.3594   -71.0587  Citizens Connect App  "
      ]
     },
     "execution_count": 22,
     "metadata": {},
     "output_type": "execute_result"
    }
   ],
   "source": [
    "boston_311_data.head()"
   ]
  },
  {
   "cell_type": "code",
   "execution_count": 23,
   "metadata": {},
   "outputs": [
    {
     "data": {
      "text/plain": [
       "open_dt                               0\n",
       "target_dt                          4347\n",
       "closed_dt                          7685\n",
       "ontime                                0\n",
       "case_status                           0\n",
       "case_title                            0\n",
       "subject                               0\n",
       "reason                                0\n",
       "type                                  0\n",
       "department                            0\n",
       "submittedphoto                    19507\n",
       "neighborhood                         37\n",
       "neighborhood_services_district        1\n",
       "location_street_name                389\n",
       "location_zipcode                   8461\n",
       "latitude                              0\n",
       "longitude                             0\n",
       "source                                0\n",
       "dtype: int64"
      ]
     },
     "execution_count": 23,
     "metadata": {},
     "output_type": "execute_result"
    }
   ],
   "source": [
    "boston_311_data.isnull().sum()"
   ]
  },
  {
   "cell_type": "code",
   "execution_count": 24,
   "metadata": {},
   "outputs": [],
   "source": [
    "boston_311_data['text length'] = boston_311_data['case_title'].apply(len)"
   ]
  },
  {
   "cell_type": "code",
   "execution_count": 25,
   "metadata": {},
   "outputs": [
    {
     "ename": "NameError",
     "evalue": "name 'yelp_reviews' is not defined",
     "output_type": "error",
     "traceback": [
      "\u001b[0;31m---------------------------------------------------------------------------\u001b[0m",
      "\u001b[0;31mNameError\u001b[0m                                 Traceback (most recent call last)",
      "\u001b[0;32m<ipython-input-25-2a2930b72069>\u001b[0m in \u001b[0;36m<module>\u001b[0;34m()\u001b[0m\n\u001b[0;32m----> 1\u001b[0;31m \u001b[0mgrid\u001b[0m \u001b[0;34m=\u001b[0m \u001b[0msns\u001b[0m\u001b[0;34m.\u001b[0m\u001b[0mFacetGrid\u001b[0m\u001b[0;34m(\u001b[0m\u001b[0myelp_reviews\u001b[0m\u001b[0;34m,\u001b[0m\u001b[0mcol\u001b[0m\u001b[0;34m=\u001b[0m\u001b[0;34m'stars'\u001b[0m\u001b[0;34m)\u001b[0m\u001b[0;34m\u001b[0m\u001b[0m\n\u001b[0m\u001b[1;32m      2\u001b[0m \u001b[0mgrid\u001b[0m\u001b[0;34m.\u001b[0m\u001b[0mmap\u001b[0m\u001b[0;34m(\u001b[0m\u001b[0mplt\u001b[0m\u001b[0;34m.\u001b[0m\u001b[0mhist\u001b[0m\u001b[0;34m,\u001b[0m\u001b[0;34m'text length'\u001b[0m\u001b[0;34m)\u001b[0m\u001b[0;34m\u001b[0m\u001b[0m\n",
      "\u001b[0;31mNameError\u001b[0m: name 'yelp_reviews' is not defined"
     ]
    }
   ],
   "source": [
    "grid = sns.FacetGrid(yelp_reviews,col='stars')\n",
    "grid.map(plt.hist,'text length')"
   ]
  },
  {
   "cell_type": "code",
   "execution_count": 26,
   "metadata": {},
   "outputs": [
    {
     "data": {
      "text/plain": [
       "array(['Citizens Connect App', 'Constituent Call', 'Employee Generated',\n",
       "       'City Worker App', 'Self Service'], dtype=object)"
      ]
     },
     "execution_count": 26,
     "metadata": {},
     "output_type": "execute_result"
    }
   ],
   "source": [
    "boston_311_data['source'].unique()"
   ]
  },
  {
   "cell_type": "code",
   "execution_count": 27,
   "metadata": {
    "scrolled": true
   },
   "outputs": [
    {
     "data": {
      "text/plain": [
       "PWDx    18925\n",
       "BTDT     8745\n",
       "ISD      2767\n",
       "INFO     1536\n",
       "PARK     1443\n",
       "GEN_     1228\n",
       "BWSC      539\n",
       "PROP      401\n",
       "ANML       90\n",
       "BPD_       35\n",
       "BPS_       21\n",
       "BHA_       17\n",
       "ONS_       14\n",
       "DISB        8\n",
       "DND_        5\n",
       "Name: department, dtype: int64"
      ]
     },
     "execution_count": 27,
     "metadata": {},
     "output_type": "execute_result"
    }
   ],
   "source": [
    "boston_311_data['department'].value_counts()"
   ]
  },
  {
   "cell_type": "code",
   "execution_count": 28,
   "metadata": {},
   "outputs": [
    {
     "data": {
      "text/plain": [
       "Enforcement & Abandoned Vehicles     6602\n",
       "Highway Maintenance                  4818\n",
       "Street Cleaning                      3902\n",
       "Code Enforcement                     3395\n",
       "Sanitation                           3181\n",
       "Recycling                            3143\n",
       "Signs & Signals                      1977\n",
       "Street Lights                        1448\n",
       "Needle Program                       1223\n",
       "Building                             1199\n",
       "Trees                                1078\n",
       "Housing                              1034\n",
       "Park Maintenance & Safety             435\n",
       "Graffiti                              389\n",
       "Animal Issues                         371\n",
       "Employee & General Comments           333\n",
       "Environmental Services                326\n",
       "Administrative & General Requests     250\n",
       "Abandoned Bicycle                     139\n",
       "Health                                114\n",
       "Notification                          101\n",
       "Traffic Management & Engineering      100\n",
       "Catchbasin                             65\n",
       "Operations                             37\n",
       "Sidewalk Cover / Manhole               32\n",
       "Fire Hydrant                           24\n",
       "Noise Disturbance                      18\n",
       "Air Pollution Control                   7\n",
       "Weights and Measures                    7\n",
       "Pothole                                 6\n",
       "Consumer Affairs Issues                 5\n",
       "Boston Bikes                            4\n",
       "Generic Noise Disturbance               3\n",
       "Cemetery                                2\n",
       "Office of The Parking Clerk             2\n",
       "Massport                                2\n",
       "Parking Complaints                      1\n",
       "Valet                                   1\n",
       "Name: reason, dtype: int64"
      ]
     },
     "execution_count": 28,
     "metadata": {},
     "output_type": "execute_result"
    }
   ],
   "source": [
    "boston_311_data['reason'].value_counts()"
   ]
  },
  {
   "cell_type": "code",
   "execution_count": 29,
   "metadata": {},
   "outputs": [],
   "source": [
    "new_reason = boston_311_data['reason'].value_counts().sort_values(ascending=False)"
   ]
  },
  {
   "cell_type": "code",
   "execution_count": 30,
   "metadata": {},
   "outputs": [
    {
     "name": "stdout",
     "output_type": "stream",
     "text": [
      "Highway Maintenance    4818\n",
      "Street Cleaning        3902\n",
      "Code Enforcement       3395\n",
      "Sanitation             3181\n",
      "Recycling              3143\n",
      "Signs & Signals        1977\n",
      "Street Lights          1448\n",
      "Needle Program         1223\n",
      "Building               1199\n",
      "Trees                  1078\n",
      "Housing                1034\n",
      "Name: reason, dtype: int64\n"
     ]
    }
   ],
   "source": [
    "print(new_reason[1:12])"
   ]
  },
  {
   "cell_type": "code",
   "execution_count": 498,
   "metadata": {},
   "outputs": [
    {
     "ename": "SyntaxError",
     "evalue": "invalid syntax (<ipython-input-498-fd8f010bcf42>, line 1)",
     "output_type": "error",
     "traceback": [
      "\u001b[0;36m  File \u001b[0;32m\"<ipython-input-498-fd8f010bcf42>\"\u001b[0;36m, line \u001b[0;32m1\u001b[0m\n\u001b[0;31m    boston_311_data.set_index('neighborhood')[['boston_311_data['case_status'].value_counts()','boston_311_data['case_status'].value_counts()']].plot(kind='bar', figsize=(14, 10))\u001b[0m\n\u001b[0m                                                                           ^\u001b[0m\n\u001b[0;31mSyntaxError\u001b[0m\u001b[0;31m:\u001b[0m invalid syntax\n"
     ]
    }
   ],
   "source": [
    "new "
   ]
  },
  {
   "cell_type": "code",
   "execution_count": 31,
   "metadata": {},
   "outputs": [
    {
     "data": {
      "text/plain": [
       "Closed    28089\n",
       "Open       7685\n",
       "Name: case_status, dtype: int64"
      ]
     },
     "execution_count": 31,
     "metadata": {},
     "output_type": "execute_result"
    }
   ],
   "source": [
    "boston_311_data['case_status'].value_counts()"
   ]
  },
  {
   "cell_type": "code",
   "execution_count": 32,
   "metadata": {},
   "outputs": [
    {
     "data": {
      "text/plain": [
       "<matplotlib.axes._subplots.AxesSubplot at 0x1a2704b518>"
      ]
     },
     "execution_count": 32,
     "metadata": {},
     "output_type": "execute_result"
    },
    {
     "data": {
      "image/png": "[encoded data removed]",
      "text/plain": [
       "<Figure size 432x288 with 1 Axes>"
      ]
     },
     "metadata": {},
     "output_type": "display_data"
    }
   ],
   "source": [
    "boston_311_data['case_status'].value_counts().plot(kind='barh')"
   ]
  },
  {
   "cell_type": "code",
   "execution_count": 33,
   "metadata": {},
   "outputs": [
    {
     "data": {
      "text/plain": [
       "ONTIME     31009\n",
       "OVERDUE     4765\n",
       "Name: ontime, dtype: int64"
      ]
     },
     "execution_count": 33,
     "metadata": {},
     "output_type": "execute_result"
    }
   ],
   "source": [
    "boston_311_data['ontime'].value_counts()"
   ]
  },
  {
   "cell_type": "code",
   "execution_count": 34,
   "metadata": {},
   "outputs": [
    {
     "data": {
      "text/plain": [
       "<matplotlib.axes._subplots.AxesSubplot at 0x11792d470>"
      ]
     },
     "execution_count": 34,
     "metadata": {},
     "output_type": "execute_result"
    },
    {
     "data": {
      "image/png": "[encoded data removed]",
      "text/plain": [
       "<Figure size 432x288 with 1 Axes>"
      ]
     },
     "metadata": {},
     "output_type": "display_data"
    }
   ],
   "source": [
    "boston_311_data['ontime'].value_counts().plot(kind='barh')"
   ]
  },
  {
   "cell_type": "code",
   "execution_count": 35,
   "metadata": {
    "scrolled": true
   },
   "outputs": [
    {
     "data": {
      "text/plain": [
       "13    3635\n",
       "14    3324\n",
       "10    3134\n",
       "5     3011\n",
       "15    2726\n",
       "7     2673\n",
       "1     2667\n",
       "6     2542\n",
       "8     2200\n",
       "3     2068\n",
       "11    2011\n",
       "9     1796\n",
       "2     1336\n",
       "12    1153\n",
       "4     1066\n",
       "       389\n",
       "0       42\n",
       "Name: neighborhood_services_district, dtype: int64"
      ]
     },
     "execution_count": 35,
     "metadata": {},
     "output_type": "execute_result"
    }
   ],
   "source": [
    "boston_311_data['neighborhood_services_district'].value_counts()"
   ]
  },
  {
   "cell_type": "code",
   "execution_count": 36,
   "metadata": {},
   "outputs": [
    {
     "data": {
      "text/plain": [
       "Enforcement & Abandoned Vehicles     6602\n",
       "Highway Maintenance                  4818\n",
       "Street Cleaning                      3902\n",
       "Code Enforcement                     3395\n",
       "Sanitation                           3181\n",
       "Recycling                            3143\n",
       "Signs & Signals                      1977\n",
       "Street Lights                        1448\n",
       "Needle Program                       1223\n",
       "Building                             1199\n",
       "Trees                                1078\n",
       "Housing                              1034\n",
       "Park Maintenance & Safety             435\n",
       "Graffiti                              389\n",
       "Animal Issues                         371\n",
       "Employee & General Comments           333\n",
       "Environmental Services                326\n",
       "Administrative & General Requests     250\n",
       "Abandoned Bicycle                     139\n",
       "Health                                114\n",
       "Notification                          101\n",
       "Traffic Management & Engineering      100\n",
       "Catchbasin                             65\n",
       "Operations                             37\n",
       "Sidewalk Cover / Manhole               32\n",
       "Fire Hydrant                           24\n",
       "Noise Disturbance                      18\n",
       "Air Pollution Control                   7\n",
       "Weights and Measures                    7\n",
       "Pothole                                 6\n",
       "Consumer Affairs Issues                 5\n",
       "Boston Bikes                            4\n",
       "Generic Noise Disturbance               3\n",
       "Cemetery                                2\n",
       "Office of The Parking Clerk             2\n",
       "Massport                                2\n",
       "Parking Complaints                      1\n",
       "Valet                                   1\n",
       "Name: reason, dtype: int64"
      ]
     },
     "execution_count": 36,
     "metadata": {},
     "output_type": "execute_result"
    }
   ],
   "source": [
    "boston_311_data['reason'].value_counts()"
   ]
  },
  {
   "cell_type": "code",
   "execution_count": 37,
   "metadata": {},
   "outputs": [
    {
     "data": {
      "text/plain": [
       "<matplotlib.axes._subplots.AxesSubplot at 0x117ba7668>"
      ]
     },
     "execution_count": 37,
     "metadata": {},
     "output_type": "execute_result"
    },
    {
     "data": {
      "image/png": "[encoded data removed]",
      "text/plain": [
       "<Figure size 432x288 with 1 Axes>"
      ]
     },
     "metadata": {},
     "output_type": "display_data"
    }
   ],
   "source": [
    "boston_311_data['reason'].value_counts().plot(kind='barh')"
   ]
  },
  {
   "cell_type": "code",
   "execution_count": 38,
   "metadata": {
    "scrolled": true
   },
   "outputs": [
    {
     "data": {
      "text/plain": [
       "Citizens Connect App    15422\n",
       "Constituent Call        11621\n",
       "City Worker App          6404\n",
       "Employee Generated       1438\n",
       "Self Service              889\n",
       "Name: source, dtype: int64"
      ]
     },
     "execution_count": 38,
     "metadata": {},
     "output_type": "execute_result"
    }
   ],
   "source": [
    "boston_311_data['source'].value_counts()"
   ]
  },
  {
   "cell_type": "code",
   "execution_count": 39,
   "metadata": {
    "scrolled": true
   },
   "outputs": [
    {
     "data": {
      "image/png": "[encoded data removed]",
      "text/plain": [
       "<Figure size 432x288 with 1 Axes>"
      ]
     },
     "metadata": {},
     "output_type": "display_data"
    }
   ],
   "source": [
    "boston_311_data['source'].value_counts().plot(kind='barh')\n",
    "plt.savefig('/Users/johnmorales/Desktop.eps', format='eps')"
   ]
  },
  {
   "cell_type": "code",
   "execution_count": 40,
   "metadata": {},
   "outputs": [
    {
     "data": {
      "text/plain": [
       "Citizens Connect App    15422\n",
       "Constituent Call        11621\n",
       "City Worker App          6404\n",
       "Employee Generated       1438\n",
       "Self Service              889\n",
       "Name: source, dtype: int64"
      ]
     },
     "execution_count": 40,
     "metadata": {},
     "output_type": "execute_result"
    }
   ],
   "source": [
    "boston_311_data['source'].value_counts().sort_values(ascending=False)"
   ]
  },
  {
   "cell_type": "code",
   "execution_count": 41,
   "metadata": {},
   "outputs": [
    {
     "data": {
      "image/png": "[encoded data removed]",
      "text/plain": [
       "<Figure size 432x288 with 1 Axes>"
      ]
     },
     "metadata": {},
     "output_type": "display_data"
    }
   ],
   "source": [
    "boston_311_data['source'].value_counts().plot(kind='bar')\n",
    "sns.set(style=\"darkgrid\",palette=\"Paired\")\n",
    "plt.title('Total Number of Case Reports by Source Type', size=14)\n",
    "plt.ylabel('Count', size=10)\n",
    "plt.xticks(rotation='horizontal',size=6)\n",
    "plt.savefig('/Users/johnmorales/Desktop5.eps', format='eps')"
   ]
  },
  {
   "cell_type": "code",
   "execution_count": 42,
   "metadata": {},
   "outputs": [
    {
     "data": {
      "text/plain": [
       "Dorchester                                      5848\n",
       "Roxbury                                         3267\n",
       "East Boston                                     2668\n",
       "Allston / Brighton                              2605\n",
       "South Boston / South Boston Waterfront          2543\n",
       "South End                                       2137\n",
       "Jamaica Plain                                   2067\n",
       "Downtown / Financial District                   1987\n",
       "Hyde Park                                       1799\n",
       "Back Bay                                        1707\n",
       "Greater Mattapan                                1397\n",
       "Charlestown                                     1336\n",
       "West Roxbury                                    1244\n",
       "Roslindale                                      1157\n",
       "Boston                                           991\n",
       "Beacon Hill                                      827\n",
       "Fenway / Kenmore / Audubon Circle / Longwood     688\n",
       "Mission Hill                                     588\n",
       "                                                 389\n",
       "South Boston                                     226\n",
       "Brighton                                         150\n",
       "Allston                                           67\n",
       "Mattapan                                          45\n",
       "Chestnut Hill                                      4\n",
       "Name: neighborhood, dtype: int64"
      ]
     },
     "execution_count": 42,
     "metadata": {},
     "output_type": "execute_result"
    }
   ],
   "source": [
    "boston_311_data['neighborhood'].value_counts()"
   ]
  },
  {
   "cell_type": "code",
   "execution_count": 11,
   "metadata": {},
   "outputs": [
    {
     "data": {
      "image/png": "[encoded data removed]",
      "text/plain": [
       "<Figure size 2016x1080 with 1 Axes>"
      ]
     },
     "metadata": {},
     "output_type": "display_data"
    }
   ],
   "source": [
    "boston_311_data['neighborhood'].value_counts().plot(kind='barh',figsize=(28, 15))\n",
    "sns.set(style=\"darkgrid\",palette=\"Set2\")\n",
    "plt.title('Total Number of Case Reports by Neighborhood', size=18)\n",
    "plt.ylabel('Count', size=12)\n",
    "plt.xticks(rotation='horizontal',size=6)\n",
    "plt.savefig('/Users/johnmorales/Desktop10.eps', format='eps')"
   ]
  },
  {
   "cell_type": "code",
   "execution_count": 43,
   "metadata": {},
   "outputs": [
    {
     "ename": "SyntaxError",
     "evalue": "invalid syntax (<ipython-input-43-dd7c7fa37507>, line 1)",
     "output_type": "error",
     "traceback": [
      "\u001b[0;36m  File \u001b[0;32m\"<ipython-input-43-dd7c7fa37507>\"\u001b[0;36m, line \u001b[0;32m1\u001b[0m\n\u001b[0;31m    df_neighborhood = pd.DataFrame(boston_311_data, columns = [neighborhood', 'Age'])\u001b[0m\n\u001b[0m                                                                              ^\u001b[0m\n\u001b[0;31mSyntaxError\u001b[0m\u001b[0;31m:\u001b[0m invalid syntax\n"
     ]
    }
   ],
   "source": [
    "df_neighborhood = pd.DataFrame(boston_311_data, columns = [neighborhood', 'Age']) "
   ]
  },
  {
   "cell_type": "code",
   "execution_count": 44,
   "metadata": {},
   "outputs": [
    {
     "data": {
      "text/plain": [
       "(35774, 19)"
      ]
     },
     "execution_count": 44,
     "metadata": {},
     "output_type": "execute_result"
    }
   ],
   "source": [
    "boston_311_data.shape"
   ]
  },
  {
   "cell_type": "code",
   "execution_count": 45,
   "metadata": {},
   "outputs": [
    {
     "data": {
      "text/html": [
       "<div>\n",
       "<style scoped>\n",
       "    .dataframe tbody tr th:only-of-type {\n",
       "        vertical-align: middle;\n",
       "    }\n",
       "\n",
       "    .dataframe tbody tr th {\n",
       "        vertical-align: top;\n",
       "    }\n",
       "\n",
       "    .dataframe thead th {\n",
       "        text-align: right;\n",
       "    }\n",
       "</style>\n",
       "<table border=\"1\" class=\"dataframe\">\n",
       "  <thead>\n",
       "    <tr style=\"text-align: right;\">\n",
       "      <th></th>\n",
       "      <th>open_dt</th>\n",
       "      <th>target_dt</th>\n",
       "      <th>closed_dt</th>\n",
       "      <th>ontime</th>\n",
       "      <th>case_status</th>\n",
       "      <th>case_title</th>\n",
       "      <th>subject</th>\n",
       "      <th>reason</th>\n",
       "      <th>type</th>\n",
       "      <th>department</th>\n",
       "      <th>submittedphoto</th>\n",
       "      <th>neighborhood</th>\n",
       "      <th>neighborhood_services_district</th>\n",
       "      <th>location_street_name</th>\n",
       "      <th>location_zipcode</th>\n",
       "      <th>latitude</th>\n",
       "      <th>longitude</th>\n",
       "      <th>source</th>\n",
       "      <th>text length</th>\n",
       "    </tr>\n",
       "  </thead>\n",
       "  <tbody>\n",
       "    <tr>\n",
       "      <th>0</th>\n",
       "      <td>1/13/20 9:33</td>\n",
       "      <td>1/28/20 9:33</td>\n",
       "      <td>NaN</td>\n",
       "      <td>OVERDUE</td>\n",
       "      <td>Open</td>\n",
       "      <td>PRINTED // Street Light Outages  //  GAS // ...</td>\n",
       "      <td>Public Works Department</td>\n",
       "      <td>Street Lights</td>\n",
       "      <td>Street Light Outages</td>\n",
       "      <td>PWDx</td>\n",
       "      <td>NaN</td>\n",
       "      <td>Beacon Hill</td>\n",
       "      <td>3</td>\n",
       "      <td>29 Myrtle St</td>\n",
       "      <td>2114.0</td>\n",
       "      <td>42.3594</td>\n",
       "      <td>-71.0657</td>\n",
       "      <td>Citizens Connect App</td>\n",
       "      <td>51</td>\n",
       "    </tr>\n",
       "    <tr>\n",
       "      <th>1</th>\n",
       "      <td>1/12/20 19:47</td>\n",
       "      <td>1/28/20 8:30</td>\n",
       "      <td>1/30/20 15:27</td>\n",
       "      <td>OVERDUE</td>\n",
       "      <td>Closed</td>\n",
       "      <td>\"All Street Lights Out.\" (Check Overhead) ///I...</td>\n",
       "      <td>Public Works Department</td>\n",
       "      <td>Street Lights</td>\n",
       "      <td>Street Light Outages</td>\n",
       "      <td>PWDx</td>\n",
       "      <td>NaN</td>\n",
       "      <td>Back Bay</td>\n",
       "      <td>14</td>\n",
       "      <td>290 Commonwealth Ave</td>\n",
       "      <td>2115.0</td>\n",
       "      <td>42.3496</td>\n",
       "      <td>-71.0848</td>\n",
       "      <td>Citizens Connect App</td>\n",
       "      <td>68</td>\n",
       "    </tr>\n",
       "    <tr>\n",
       "      <th>2</th>\n",
       "      <td>1/1/20 16:19</td>\n",
       "      <td>NaN</td>\n",
       "      <td>1/13/20 16:27</td>\n",
       "      <td>ONTIME</td>\n",
       "      <td>Closed</td>\n",
       "      <td>Abandoned Bicycle</td>\n",
       "      <td>Mayor's 24 Hour Hotline</td>\n",
       "      <td>Abandoned Bicycle</td>\n",
       "      <td>Abandoned Bicycle</td>\n",
       "      <td>BTDT</td>\n",
       "      <td>NaN</td>\n",
       "      <td>Dorchester</td>\n",
       "      <td>7</td>\n",
       "      <td>461 Gallivan Blvd</td>\n",
       "      <td>2124.0</td>\n",
       "      <td>42.2820</td>\n",
       "      <td>-71.0580</td>\n",
       "      <td>Constituent Call</td>\n",
       "      <td>17</td>\n",
       "    </tr>\n",
       "    <tr>\n",
       "      <th>3</th>\n",
       "      <td>1/3/20 14:00</td>\n",
       "      <td>NaN</td>\n",
       "      <td>NaN</td>\n",
       "      <td>ONTIME</td>\n",
       "      <td>Open</td>\n",
       "      <td>Abandoned Bicycle</td>\n",
       "      <td>Mayor's 24 Hour Hotline</td>\n",
       "      <td>Abandoned Bicycle</td>\n",
       "      <td>Abandoned Bicycle</td>\n",
       "      <td>BTDT</td>\n",
       "      <td>NaN</td>\n",
       "      <td>Boston</td>\n",
       "      <td>6</td>\n",
       "      <td>169-189 Columbus Ave</td>\n",
       "      <td>2116.0</td>\n",
       "      <td>42.3491</td>\n",
       "      <td>-71.0715</td>\n",
       "      <td>Citizens Connect App</td>\n",
       "      <td>17</td>\n",
       "    </tr>\n",
       "    <tr>\n",
       "      <th>4</th>\n",
       "      <td>1/4/20 16:41</td>\n",
       "      <td>NaN</td>\n",
       "      <td>NaN</td>\n",
       "      <td>ONTIME</td>\n",
       "      <td>Open</td>\n",
       "      <td>Abandoned Bicycle</td>\n",
       "      <td>Mayor's 24 Hour Hotline</td>\n",
       "      <td>Abandoned Bicycle</td>\n",
       "      <td>Abandoned Bicycle</td>\n",
       "      <td>BTDT</td>\n",
       "      <td>https://311.boston.gov/media/boston/report/pho...</td>\n",
       "      <td>South End</td>\n",
       "      <td>6</td>\n",
       "      <td>INTERSECTION Claremont St &amp; Wellington St</td>\n",
       "      <td>NaN</td>\n",
       "      <td>42.3594</td>\n",
       "      <td>-71.0587</td>\n",
       "      <td>Citizens Connect App</td>\n",
       "      <td>17</td>\n",
       "    </tr>\n",
       "  </tbody>\n",
       "</table>\n",
       "</div>"
      ],
      "text/plain": [
       "         open_dt     target_dt      closed_dt   ontime case_status  \\\n",
       "0   1/13/20 9:33  1/28/20 9:33            NaN  OVERDUE        Open   \n",
       "1  1/12/20 19:47  1/28/20 8:30  1/30/20 15:27  OVERDUE      Closed   \n",
       "2   1/1/20 16:19           NaN  1/13/20 16:27   ONTIME      Closed   \n",
       "3   1/3/20 14:00           NaN            NaN   ONTIME        Open   \n",
       "4   1/4/20 16:41           NaN            NaN   ONTIME        Open   \n",
       "\n",
       "                                          case_title                  subject  \\\n",
       "0    PRINTED // Street Light Outages  //  GAS // ...  Public Works Department   \n",
       "1  \"All Street Lights Out.\" (Check Overhead) ///I...  Public Works Department   \n",
       "2                                  Abandoned Bicycle  Mayor's 24 Hour Hotline   \n",
       "3                                  Abandoned Bicycle  Mayor's 24 Hour Hotline   \n",
       "4                                  Abandoned Bicycle  Mayor's 24 Hour Hotline   \n",
       "\n",
       "              reason                  type department  \\\n",
       "0      Street Lights  Street Light Outages       PWDx   \n",
       "1      Street Lights  Street Light Outages       PWDx   \n",
       "2  Abandoned Bicycle     Abandoned Bicycle       BTDT   \n",
       "3  Abandoned Bicycle     Abandoned Bicycle       BTDT   \n",
       "4  Abandoned Bicycle     Abandoned Bicycle       BTDT   \n",
       "\n",
       "                                      submittedphoto neighborhood  \\\n",
       "0                                                NaN  Beacon Hill   \n",
       "1                                                NaN     Back Bay   \n",
       "2                                                NaN   Dorchester   \n",
       "3                                                NaN       Boston   \n",
       "4  https://311.boston.gov/media/boston/report/pho...    South End   \n",
       "\n",
       "  neighborhood_services_district                       location_street_name  \\\n",
       "0                              3                               29 Myrtle St   \n",
       "1                             14                       290 Commonwealth Ave   \n",
       "2                              7                          461 Gallivan Blvd   \n",
       "3                              6                       169-189 Columbus Ave   \n",
       "4                              6  INTERSECTION Claremont St & Wellington St   \n",
       "\n",
       "   location_zipcode  latitude  longitude                source  text length  \n",
       "0            2114.0   42.3594   -71.0657  Citizens Connect App           51  \n",
       "1            2115.0   42.3496   -71.0848  Citizens Connect App           68  \n",
       "2            2124.0   42.2820   -71.0580      Constituent Call           17  \n",
       "3            2116.0   42.3491   -71.0715  Citizens Connect App           17  \n",
       "4               NaN   42.3594   -71.0587  Citizens Connect App           17  "
      ]
     },
     "execution_count": 45,
     "metadata": {},
     "output_type": "execute_result"
    }
   ],
   "source": [
    "boston_311_data.head()"
   ]
  },
  {
   "cell_type": "code",
   "execution_count": 46,
   "metadata": {},
   "outputs": [
    {
     "data": {
      "image/png": "[encoded data removed]",
      "text/plain": [
       "<Figure size 432x288 with 1 Axes>"
      ]
     },
     "metadata": {},
     "output_type": "display_data"
    }
   ],
   "source": [
    "boston_311_data.plot(kind=\"scatter\", x=\"longitude\", y=\"latitude\", alpha=0.1)\n",
    "sns.set(style=\"darkgrid\",palette=\"Set3\")\n",
    "plt.xticks(rotation='horizontal',size=6)\n",
    "plt.savefig('/Users/johnmorales/mapping1.pdf', format='pdf')"
   ]
  },
  {
   "cell_type": "code",
   "execution_count": 47,
   "metadata": {},
   "outputs": [],
   "source": [
    "percentage_dataset = boston_311_data.drop([\"open_dt\",\"target_dt\",\"closed_dt\",\"submittedphoto\",\n",
    "                                           \"neighborhood_services_district\",\"location_street_name\",\"case_title\",\n",
    "                                           \"location_zipcode\",\"latitude\",\"longitude\",\"source\",\"text length\",\n",
    "                                           \"subject\",\"reason\",\"type\",\"department\"],axis=1)"
   ]
  },
  {
   "cell_type": "code",
   "execution_count": 48,
   "metadata": {},
   "outputs": [
    {
     "data": {
      "text/html": [
       "<div>\n",
       "<style scoped>\n",
       "    .dataframe tbody tr th:only-of-type {\n",
       "        vertical-align: middle;\n",
       "    }\n",
       "\n",
       "    .dataframe tbody tr th {\n",
       "        vertical-align: top;\n",
       "    }\n",
       "\n",
       "    .dataframe thead th {\n",
       "        text-align: right;\n",
       "    }\n",
       "</style>\n",
       "<table border=\"1\" class=\"dataframe\">\n",
       "  <thead>\n",
       "    <tr style=\"text-align: right;\">\n",
       "      <th></th>\n",
       "      <th>ontime</th>\n",
       "      <th>case_status</th>\n",
       "      <th>neighborhood</th>\n",
       "    </tr>\n",
       "  </thead>\n",
       "  <tbody>\n",
       "    <tr>\n",
       "      <th>0</th>\n",
       "      <td>OVERDUE</td>\n",
       "      <td>Open</td>\n",
       "      <td>Beacon Hill</td>\n",
       "    </tr>\n",
       "    <tr>\n",
       "      <th>1</th>\n",
       "      <td>OVERDUE</td>\n",
       "      <td>Closed</td>\n",
       "      <td>Back Bay</td>\n",
       "    </tr>\n",
       "    <tr>\n",
       "      <th>2</th>\n",
       "      <td>ONTIME</td>\n",
       "      <td>Closed</td>\n",
       "      <td>Dorchester</td>\n",
       "    </tr>\n",
       "    <tr>\n",
       "      <th>3</th>\n",
       "      <td>ONTIME</td>\n",
       "      <td>Open</td>\n",
       "      <td>Boston</td>\n",
       "    </tr>\n",
       "    <tr>\n",
       "      <th>4</th>\n",
       "      <td>ONTIME</td>\n",
       "      <td>Open</td>\n",
       "      <td>South End</td>\n",
       "    </tr>\n",
       "  </tbody>\n",
       "</table>\n",
       "</div>"
      ],
      "text/plain": [
       "    ontime case_status neighborhood\n",
       "0  OVERDUE        Open  Beacon Hill\n",
       "1  OVERDUE      Closed     Back Bay\n",
       "2   ONTIME      Closed   Dorchester\n",
       "3   ONTIME        Open       Boston\n",
       "4   ONTIME        Open    South End"
      ]
     },
     "execution_count": 48,
     "metadata": {},
     "output_type": "execute_result"
    }
   ],
   "source": [
    "percentage_dataset.head()"
   ]
  },
  {
   "cell_type": "code",
   "execution_count": 54,
   "metadata": {},
   "outputs": [
    {
     "data": {
      "text/plain": [
       "Closed    0.785992\n",
       "Open      0.215043\n",
       "Name: case_status, dtype: float64"
      ]
     },
     "execution_count": 54,
     "metadata": {},
     "output_type": "execute_result"
    }
   ],
   "source": [
    "percentage_dataset['case_status'].value_counts()/case_by_neighborhood1.sum()"
   ]
  },
  {
   "cell_type": "code",
   "execution_count": 55,
   "metadata": {},
   "outputs": [],
   "source": [
    "percentages = percentage_dataset['case_status'].value_counts()/case_by_neighborhood1.sum()\n",
    "labels = ['Closed/Total', 'Open/Total']\n",
    "explode=(0.1,0)"
   ]
  },
  {
   "cell_type": "code",
   "execution_count": 56,
   "metadata": {},
   "outputs": [
    {
     "data": {
      "image/png": "[encoded data removed]",
      "text/plain": [
       "<Figure size 432x288 with 1 Axes>"
      ]
     },
     "metadata": {},
     "output_type": "display_data"
    }
   ],
   "source": [
    "fig, ax = plt.subplots()\n",
    "ax.pie(percentages, explode=explode, labels=labels,  \n",
    "       colors=sns.color_palette(\"Set2\"), autopct='%1.0f%%', \n",
    "       shadow=False, startangle=0,   \n",
    "       pctdistance=1.2,labeldistance=1.4)\n",
    "ax.axis('equal')\n",
    "ax.set_title(\"Total % of Open vs. Closed Cases for All Neighborhoods\")\n",
    "ax.legend(frameon=False, bbox_to_anchor=(1.5,0.8))\n",
    "plt.savefig('/Users/johnmorales/pieforopenclosed.eps', format='eps')"
   ]
  },
  {
   "cell_type": "code",
   "execution_count": 57,
   "metadata": {
    "scrolled": false
   },
   "outputs": [
    {
     "data": {
      "text/plain": [
       "ONTIME     0.867700\n",
       "OVERDUE    0.133335\n",
       "Name: ontime, dtype: float64"
      ]
     },
     "execution_count": 57,
     "metadata": {},
     "output_type": "execute_result"
    }
   ],
   "source": [
    "percentage_dataset['ontime'].value_counts()/case_by_neighborhood1.sum()"
   ]
  },
  {
   "cell_type": "code",
   "execution_count": 58,
   "metadata": {},
   "outputs": [],
   "source": [
    "percentages = percentage_dataset['ontime'].value_counts()/case_by_neighborhood1.sum()\n",
    "labels = ['Ontime/Total', 'Overdue/Total']\n",
    "explode=(0.1,0)"
   ]
  },
  {
   "cell_type": "code",
   "execution_count": 59,
   "metadata": {},
   "outputs": [
    {
     "data": {
      "image/png": "[encoded data removed]",
      "text/plain": [
       "<Figure size 432x288 with 1 Axes>"
      ]
     },
     "metadata": {},
     "output_type": "display_data"
    }
   ],
   "source": [
    "fig, ax = plt.subplots()\n",
    "color_palette_list = ['#0099CC', '#ADD8E6']\n",
    "ax.pie(percentages, explode=explode, labels=labels,  \n",
    "       colors=color_palette_list[0:2], autopct='%1.0f%%', \n",
    "       shadow=False, startangle=0,   \n",
    "       pctdistance=1.2,labeldistance=1.4)\n",
    "ax.axis('equal')\n",
    "ax.set_title(\"Total % of Overdue vs. Ontime Cases for All Neighborhoods\")\n",
    "ax.legend(frameon=False, bbox_to_anchor=(1.5,0.8))\n",
    "plt.savefig('/Users/johnmorales/piechart.eps', format='eps')"
   ]
  },
  {
   "cell_type": "code",
   "execution_count": null,
   "metadata": {},
   "outputs": [],
   "source": []
  },
  {
   "cell_type": "code",
   "execution_count": 60,
   "metadata": {},
   "outputs": [],
   "source": [
    "case_by_neighborhood1 = percentage_dataset.groupby([\"neighborhood\",\"case_status\"])[\"ontime\"].count()"
   ]
  },
  {
   "cell_type": "code",
   "execution_count": 74,
   "metadata": {},
   "outputs": [
    {
     "ename": "KeyError",
     "evalue": "'case_status'",
     "output_type": "error",
     "traceback": [
      "\u001b[0;31m---------------------------------------------------------------------------\u001b[0m",
      "\u001b[0;31mTypeError\u001b[0m                                 Traceback (most recent call last)",
      "\u001b[0;32m~/anaconda3/lib/python3.6/site-packages/pandas/core/indexes/multi.py\u001b[0m in \u001b[0;36mget_value\u001b[0;34m(self, series, key)\u001b[0m\n\u001b[1;32m    999\u001b[0m             \u001b[0;32mtry\u001b[0m\u001b[0;34m:\u001b[0m\u001b[0;34m\u001b[0m\u001b[0m\n\u001b[0;32m-> 1000\u001b[0;31m                 \u001b[0;32mreturn\u001b[0m \u001b[0mlibindex\u001b[0m\u001b[0;34m.\u001b[0m\u001b[0mget_value_at\u001b[0m\u001b[0;34m(\u001b[0m\u001b[0ms\u001b[0m\u001b[0;34m,\u001b[0m \u001b[0mk\u001b[0m\u001b[0;34m)\u001b[0m\u001b[0;34m\u001b[0m\u001b[0m\n\u001b[0m\u001b[1;32m   1001\u001b[0m             \u001b[0;32mexcept\u001b[0m \u001b[0mIndexError\u001b[0m\u001b[0;34m:\u001b[0m\u001b[0;34m\u001b[0m\u001b[0m\n",
      "\u001b[0;32mpandas/_libs/index.pyx\u001b[0m in \u001b[0;36mpandas._libs.index.get_value_at\u001b[0;34m()\u001b[0m\n",
      "\u001b[0;32mpandas/_libs/src/util.pxd\u001b[0m in \u001b[0;36mutil.get_value_at\u001b[0;34m()\u001b[0m\n",
      "\u001b[0;31mTypeError\u001b[0m: 'str' object cannot be interpreted as an integer",
      "\nDuring handling of the above exception, another exception occurred:\n",
      "\u001b[0;31mKeyError\u001b[0m                                  Traceback (most recent call last)",
      "\u001b[0;32m<ipython-input-74-0beeb6470db5>\u001b[0m in \u001b[0;36m<module>\u001b[0;34m()\u001b[0m\n\u001b[0;32m----> 1\u001b[0;31m \u001b[0mdf\u001b[0m\u001b[0;34m[\u001b[0m\u001b[0;34m'percentage'\u001b[0m\u001b[0;34m]\u001b[0m \u001b[0;34m=\u001b[0m \u001b[0mcase_by_neighborhood1\u001b[0m\u001b[0;34m[\u001b[0m\u001b[0;34m'case_status'\u001b[0m\u001b[0;34m==\u001b[0m\u001b[0;34m\"Open\"\u001b[0m\u001b[0;34m]\u001b[0m\u001b[0;34m/\u001b[0m\u001b[0mcase_by_neighborhood1\u001b[0m\u001b[0;34m[\u001b[0m\u001b[0;34m'case_status'\u001b[0m\u001b[0;34m]\u001b[0m\u001b[0;34m.\u001b[0m\u001b[0msum\u001b[0m\u001b[0;34m(\u001b[0m\u001b[0;34m)\u001b[0m\u001b[0;34m\u001b[0m\u001b[0m\n\u001b[0m",
      "\u001b[0;32m~/anaconda3/lib/python3.6/site-packages/pandas/core/series.py\u001b[0m in \u001b[0;36m__getitem__\u001b[0;34m(self, key)\u001b[0m\n\u001b[1;32m    764\u001b[0m         \u001b[0mkey\u001b[0m \u001b[0;34m=\u001b[0m \u001b[0mcom\u001b[0m\u001b[0;34m.\u001b[0m\u001b[0m_apply_if_callable\u001b[0m\u001b[0;34m(\u001b[0m\u001b[0mkey\u001b[0m\u001b[0;34m,\u001b[0m \u001b[0mself\u001b[0m\u001b[0;34m)\u001b[0m\u001b[0;34m\u001b[0m\u001b[0m\n\u001b[1;32m    765\u001b[0m         \u001b[0;32mtry\u001b[0m\u001b[0;34m:\u001b[0m\u001b[0;34m\u001b[0m\u001b[0m\n\u001b[0;32m--> 766\u001b[0;31m             \u001b[0mresult\u001b[0m \u001b[0;34m=\u001b[0m \u001b[0mself\u001b[0m\u001b[0;34m.\u001b[0m\u001b[0mindex\u001b[0m\u001b[0;34m.\u001b[0m\u001b[0mget_value\u001b[0m\u001b[0;34m(\u001b[0m\u001b[0mself\u001b[0m\u001b[0;34m,\u001b[0m \u001b[0mkey\u001b[0m\u001b[0;34m)\u001b[0m\u001b[0;34m\u001b[0m\u001b[0m\n\u001b[0m\u001b[1;32m    767\u001b[0m \u001b[0;34m\u001b[0m\u001b[0m\n\u001b[1;32m    768\u001b[0m             \u001b[0;32mif\u001b[0m \u001b[0;32mnot\u001b[0m \u001b[0mis_scalar\u001b[0m\u001b[0;34m(\u001b[0m\u001b[0mresult\u001b[0m\u001b[0;34m)\u001b[0m\u001b[0;34m:\u001b[0m\u001b[0;34m\u001b[0m\u001b[0m\n",
      "\u001b[0;32m~/anaconda3/lib/python3.6/site-packages/pandas/core/indexes/multi.py\u001b[0m in \u001b[0;36mget_value\u001b[0;34m(self, series, key)\u001b[0m\n\u001b[1;32m   1006\u001b[0m                     \u001b[0;32mraise\u001b[0m \u001b[0mInvalidIndexError\u001b[0m\u001b[0;34m(\u001b[0m\u001b[0mkey\u001b[0m\u001b[0;34m)\u001b[0m\u001b[0;34m\u001b[0m\u001b[0m\n\u001b[1;32m   1007\u001b[0m                 \u001b[0;32melse\u001b[0m\u001b[0;34m:\u001b[0m\u001b[0;34m\u001b[0m\u001b[0m\n\u001b[0;32m-> 1008\u001b[0;31m                     \u001b[0;32mraise\u001b[0m \u001b[0me1\u001b[0m\u001b[0;34m\u001b[0m\u001b[0m\n\u001b[0m\u001b[1;32m   1009\u001b[0m             \u001b[0;32mexcept\u001b[0m \u001b[0mException\u001b[0m\u001b[0;34m:\u001b[0m  \u001b[0;31m# pragma: no cover\u001b[0m\u001b[0;34m\u001b[0m\u001b[0m\n\u001b[1;32m   1010\u001b[0m                 \u001b[0;32mraise\u001b[0m \u001b[0me1\u001b[0m\u001b[0;34m\u001b[0m\u001b[0m\n",
      "\u001b[0;32m~/anaconda3/lib/python3.6/site-packages/pandas/core/indexes/multi.py\u001b[0m in \u001b[0;36mget_value\u001b[0;34m(self, series, key)\u001b[0m\n\u001b[1;32m    990\u001b[0m \u001b[0;34m\u001b[0m\u001b[0m\n\u001b[1;32m    991\u001b[0m         \u001b[0;32mtry\u001b[0m\u001b[0;34m:\u001b[0m\u001b[0;34m\u001b[0m\u001b[0m\n\u001b[0;32m--> 992\u001b[0;31m             \u001b[0;32mreturn\u001b[0m \u001b[0mself\u001b[0m\u001b[0;34m.\u001b[0m\u001b[0m_engine\u001b[0m\u001b[0;34m.\u001b[0m\u001b[0mget_value\u001b[0m\u001b[0;34m(\u001b[0m\u001b[0ms\u001b[0m\u001b[0;34m,\u001b[0m \u001b[0mk\u001b[0m\u001b[0;34m)\u001b[0m\u001b[0;34m\u001b[0m\u001b[0m\n\u001b[0m\u001b[1;32m    993\u001b[0m         \u001b[0;32mexcept\u001b[0m \u001b[0mKeyError\u001b[0m \u001b[0;32mas\u001b[0m \u001b[0me1\u001b[0m\u001b[0;34m:\u001b[0m\u001b[0;34m\u001b[0m\u001b[0m\n\u001b[1;32m    994\u001b[0m             \u001b[0;32mtry\u001b[0m\u001b[0;34m:\u001b[0m\u001b[0;34m\u001b[0m\u001b[0m\n",
      "\u001b[0;32mpandas/_libs/index.pyx\u001b[0m in \u001b[0;36mpandas._libs.index.IndexEngine.get_value\u001b[0;34m()\u001b[0m\n",
      "\u001b[0;32mpandas/_libs/index.pyx\u001b[0m in \u001b[0;36mpandas._libs.index.IndexEngine.get_value\u001b[0;34m()\u001b[0m\n",
      "\u001b[0;32mpandas/_libs/index.pyx\u001b[0m in \u001b[0;36mpandas._libs.index.IndexEngine.get_loc\u001b[0;34m()\u001b[0m\n",
      "\u001b[0;32mpandas/_libs/index.pyx\u001b[0m in \u001b[0;36mpandas._libs.index.BaseMultiIndexCodesEngine.get_loc\u001b[0;34m()\u001b[0m\n",
      "\u001b[0;31mKeyError\u001b[0m: 'case_status'"
     ]
    }
   ],
   "source": [
    "df['percentage'] = case_by_neighborhood1['case_status'==\"Open\"]/case_by_neighborhood1['case_status'].sum()"
   ]
  },
  {
   "cell_type": "code",
   "execution_count": 63,
   "metadata": {},
   "outputs": [
    {
     "data": {
      "text/plain": [
       "35737"
      ]
     },
     "execution_count": 63,
     "metadata": {},
     "output_type": "execute_result"
    }
   ],
   "source": [
    "case_by_neighborhood1.sum()"
   ]
  },
  {
   "cell_type": "code",
   "execution_count": 75,
   "metadata": {},
   "outputs": [
    {
     "data": {
      "text/plain": [
       "ontime          31009\n",
       "case_status     31009\n",
       "neighborhood    30982\n",
       "dtype: int64"
      ]
     },
     "execution_count": 75,
     "metadata": {},
     "output_type": "execute_result"
    }
   ],
   "source": [
    "percentage_dataset.loc[percentage_dataset['ontime'] == 'ONTIME'].count()"
   ]
  },
  {
   "cell_type": "code",
   "execution_count": 65,
   "metadata": {},
   "outputs": [
    {
     "ename": "AttributeError",
     "evalue": "'Series' object has no attribute 'query'",
     "output_type": "error",
     "traceback": [
      "\u001b[0;31m---------------------------------------------------------------------------\u001b[0m",
      "\u001b[0;31mAttributeError\u001b[0m                            Traceback (most recent call last)",
      "\u001b[0;32m<ipython-input-65-e1e4edb0535c>\u001b[0m in \u001b[0;36m<module>\u001b[0;34m()\u001b[0m\n\u001b[0;32m----> 1\u001b[0;31m \u001b[0mboston_311_data\u001b[0m\u001b[0;34m[\u001b[0m\u001b[0;34m'case_status'\u001b[0m\u001b[0;34m]\u001b[0m\u001b[0;34m.\u001b[0m\u001b[0mquery\u001b[0m\u001b[0;34m(\u001b[0m\u001b[0;34m'case_status == \"Closed\"'\u001b[0m\u001b[0;34m)\u001b[0m\u001b[0;34m.\u001b[0m\u001b[0msum\u001b[0m\u001b[0;34m(\u001b[0m\u001b[0;34m)\u001b[0m\u001b[0;34m\u001b[0m\u001b[0m\n\u001b[0m",
      "\u001b[0;32m~/anaconda3/lib/python3.6/site-packages/pandas/core/generic.py\u001b[0m in \u001b[0;36m__getattr__\u001b[0;34m(self, name)\u001b[0m\n\u001b[1;32m   4370\u001b[0m             \u001b[0;32mif\u001b[0m \u001b[0mself\u001b[0m\u001b[0;34m.\u001b[0m\u001b[0m_info_axis\u001b[0m\u001b[0;34m.\u001b[0m\u001b[0m_can_hold_identifiers_and_holds_name\u001b[0m\u001b[0;34m(\u001b[0m\u001b[0mname\u001b[0m\u001b[0;34m)\u001b[0m\u001b[0;34m:\u001b[0m\u001b[0;34m\u001b[0m\u001b[0m\n\u001b[1;32m   4371\u001b[0m                 \u001b[0;32mreturn\u001b[0m \u001b[0mself\u001b[0m\u001b[0;34m[\u001b[0m\u001b[0mname\u001b[0m\u001b[0;34m]\u001b[0m\u001b[0;34m\u001b[0m\u001b[0m\n\u001b[0;32m-> 4372\u001b[0;31m             \u001b[0;32mreturn\u001b[0m \u001b[0mobject\u001b[0m\u001b[0;34m.\u001b[0m\u001b[0m__getattribute__\u001b[0m\u001b[0;34m(\u001b[0m\u001b[0mself\u001b[0m\u001b[0;34m,\u001b[0m \u001b[0mname\u001b[0m\u001b[0;34m)\u001b[0m\u001b[0;34m\u001b[0m\u001b[0m\n\u001b[0m\u001b[1;32m   4373\u001b[0m \u001b[0;34m\u001b[0m\u001b[0m\n\u001b[1;32m   4374\u001b[0m     \u001b[0;32mdef\u001b[0m \u001b[0m__setattr__\u001b[0m\u001b[0;34m(\u001b[0m\u001b[0mself\u001b[0m\u001b[0;34m,\u001b[0m \u001b[0mname\u001b[0m\u001b[0;34m,\u001b[0m \u001b[0mvalue\u001b[0m\u001b[0;34m)\u001b[0m\u001b[0;34m:\u001b[0m\u001b[0;34m\u001b[0m\u001b[0m\n",
      "\u001b[0;31mAttributeError\u001b[0m: 'Series' object has no attribute 'query'"
     ]
    }
   ],
   "source": [
    "boston_311_data['case_status'].query('case_status == \"Closed\"').sum()"
   ]
  },
  {
   "cell_type": "code",
   "execution_count": 66,
   "metadata": {},
   "outputs": [
    {
     "data": {
      "text/plain": [
       "<bound method NDFrame.head of neighborhood                                  case_status\n",
       "                                              Closed          244\n",
       "                                              Open            145\n",
       "Allston                                       Closed           52\n",
       "                                              Open             15\n",
       "Allston / Brighton                            Closed         2083\n",
       "                                              Open            522\n",
       "Back Bay                                      Closed         1360\n",
       "                                              Open            347\n",
       "Beacon Hill                                   Closed          665\n",
       "                                              Open            162\n",
       "Boston                                        Closed          748\n",
       "                                              Open            243\n",
       "Brighton                                      Closed          119\n",
       "                                              Open             31\n",
       "Charlestown                                   Closed         1018\n",
       "                                              Open            318\n",
       "Chestnut Hill                                 Closed            1\n",
       "                                              Open              3\n",
       "Dorchester                                    Closed         4573\n",
       "                                              Open           1275\n",
       "Downtown / Financial District                 Closed         1615\n",
       "                                              Open            372\n",
       "East Boston                                   Closed         2203\n",
       "                                              Open            465\n",
       "Fenway / Kenmore / Audubon Circle / Longwood  Closed          484\n",
       "                                              Open            204\n",
       "Greater Mattapan                              Closed         1038\n",
       "                                              Open            359\n",
       "Hyde Park                                     Closed         1379\n",
       "                                              Open            420\n",
       "Jamaica Plain                                 Closed         1531\n",
       "                                              Open            536\n",
       "Mattapan                                      Closed           31\n",
       "                                              Open             14\n",
       "Mission Hill                                  Closed          422\n",
       "                                              Open            166\n",
       "Roslindale                                    Closed          939\n",
       "                                              Open            218\n",
       "Roxbury                                       Closed         2544\n",
       "                                              Open            723\n",
       "South Boston                                  Closed          164\n",
       "                                              Open             62\n",
       "South Boston / South Boston Waterfront        Closed         2060\n",
       "                                              Open            483\n",
       "South End                                     Closed         1842\n",
       "                                              Open            295\n",
       "West Roxbury                                  Closed          949\n",
       "                                              Open            295\n",
       "Name: ontime, dtype: int64>"
      ]
     },
     "execution_count": 66,
     "metadata": {},
     "output_type": "execute_result"
    }
   ],
   "source": [
    "case_by_neighborhood1.head"
   ]
  },
  {
   "cell_type": "code",
   "execution_count": 76,
   "metadata": {},
   "outputs": [
    {
     "ename": "AttributeError",
     "evalue": "'Series' object has no attribute 'query'",
     "output_type": "error",
     "traceback": [
      "\u001b[0;31m---------------------------------------------------------------------------\u001b[0m",
      "\u001b[0;31mAttributeError\u001b[0m                            Traceback (most recent call last)",
      "\u001b[0;32m<ipython-input-76-e1e4edb0535c>\u001b[0m in \u001b[0;36m<module>\u001b[0;34m()\u001b[0m\n\u001b[0;32m----> 1\u001b[0;31m \u001b[0mboston_311_data\u001b[0m\u001b[0;34m[\u001b[0m\u001b[0;34m'case_status'\u001b[0m\u001b[0;34m]\u001b[0m\u001b[0;34m.\u001b[0m\u001b[0mquery\u001b[0m\u001b[0;34m(\u001b[0m\u001b[0;34m'case_status == \"Closed\"'\u001b[0m\u001b[0;34m)\u001b[0m\u001b[0;34m.\u001b[0m\u001b[0msum\u001b[0m\u001b[0;34m(\u001b[0m\u001b[0;34m)\u001b[0m\u001b[0;34m\u001b[0m\u001b[0m\n\u001b[0m",
      "\u001b[0;32m~/anaconda3/lib/python3.6/site-packages/pandas/core/generic.py\u001b[0m in \u001b[0;36m__getattr__\u001b[0;34m(self, name)\u001b[0m\n\u001b[1;32m   4370\u001b[0m             \u001b[0;32mif\u001b[0m \u001b[0mself\u001b[0m\u001b[0;34m.\u001b[0m\u001b[0m_info_axis\u001b[0m\u001b[0;34m.\u001b[0m\u001b[0m_can_hold_identifiers_and_holds_name\u001b[0m\u001b[0;34m(\u001b[0m\u001b[0mname\u001b[0m\u001b[0;34m)\u001b[0m\u001b[0;34m:\u001b[0m\u001b[0;34m\u001b[0m\u001b[0m\n\u001b[1;32m   4371\u001b[0m                 \u001b[0;32mreturn\u001b[0m \u001b[0mself\u001b[0m\u001b[0;34m[\u001b[0m\u001b[0mname\u001b[0m\u001b[0;34m]\u001b[0m\u001b[0;34m\u001b[0m\u001b[0m\n\u001b[0;32m-> 4372\u001b[0;31m             \u001b[0;32mreturn\u001b[0m \u001b[0mobject\u001b[0m\u001b[0;34m.\u001b[0m\u001b[0m__getattribute__\u001b[0m\u001b[0;34m(\u001b[0m\u001b[0mself\u001b[0m\u001b[0;34m,\u001b[0m \u001b[0mname\u001b[0m\u001b[0;34m)\u001b[0m\u001b[0;34m\u001b[0m\u001b[0m\n\u001b[0m\u001b[1;32m   4373\u001b[0m \u001b[0;34m\u001b[0m\u001b[0m\n\u001b[1;32m   4374\u001b[0m     \u001b[0;32mdef\u001b[0m \u001b[0m__setattr__\u001b[0m\u001b[0;34m(\u001b[0m\u001b[0mself\u001b[0m\u001b[0;34m,\u001b[0m \u001b[0mname\u001b[0m\u001b[0;34m,\u001b[0m \u001b[0mvalue\u001b[0m\u001b[0;34m)\u001b[0m\u001b[0;34m:\u001b[0m\u001b[0;34m\u001b[0m\u001b[0m\n",
      "\u001b[0;31mAttributeError\u001b[0m: 'Series' object has no attribute 'query'"
     ]
    }
   ],
   "source": [
    "boston_311_data['case_status'].query('case_status == \"Closed\"').sum()"
   ]
  },
  {
   "cell_type": "code",
   "execution_count": 67,
   "metadata": {},
   "outputs": [],
   "source": [
    "case_by_neighborhood1 = boston_311_data.groupby([\"neighborhood\",\"case_status\"])[\"ontime\"].count()"
   ]
  },
  {
   "cell_type": "code",
   "execution_count": 68,
   "metadata": {},
   "outputs": [],
   "source": [
    "case_by_neighborhood2 = boston_311_data.groupby([\"neighborhood\",\"case_status\"]).count()"
   ]
  },
  {
   "cell_type": "code",
   "execution_count": 69,
   "metadata": {},
   "outputs": [],
   "source": [
    "case_by_neighborhood3 = boston_311_data.groupby([\"neighborhood\",\"ontime\"]).count()"
   ]
  },
  {
   "cell_type": "code",
   "execution_count": 70,
   "metadata": {},
   "outputs": [
    {
     "data": {
      "text/plain": [
       "neighborhood                                  case_status\n",
       "                                              Closed          244\n",
       "                                              Open            145\n",
       "Allston                                       Closed           52\n",
       "                                              Open             15\n",
       "Allston / Brighton                            Closed         2083\n",
       "                                              Open            522\n",
       "Back Bay                                      Closed         1360\n",
       "                                              Open            347\n",
       "Beacon Hill                                   Closed          665\n",
       "                                              Open            162\n",
       "Boston                                        Closed          748\n",
       "                                              Open            243\n",
       "Brighton                                      Closed          119\n",
       "                                              Open             31\n",
       "Charlestown                                   Closed         1018\n",
       "                                              Open            318\n",
       "Chestnut Hill                                 Closed            1\n",
       "                                              Open              3\n",
       "Dorchester                                    Closed         4573\n",
       "                                              Open           1275\n",
       "Downtown / Financial District                 Closed         1615\n",
       "                                              Open            372\n",
       "East Boston                                   Closed         2203\n",
       "                                              Open            465\n",
       "Fenway / Kenmore / Audubon Circle / Longwood  Closed          484\n",
       "                                              Open            204\n",
       "Greater Mattapan                              Closed         1038\n",
       "                                              Open            359\n",
       "Hyde Park                                     Closed         1379\n",
       "                                              Open            420\n",
       "Jamaica Plain                                 Closed         1531\n",
       "                                              Open            536\n",
       "Mattapan                                      Closed           31\n",
       "                                              Open             14\n",
       "Mission Hill                                  Closed          422\n",
       "                                              Open            166\n",
       "Roslindale                                    Closed          939\n",
       "                                              Open            218\n",
       "Roxbury                                       Closed         2544\n",
       "                                              Open            723\n",
       "South Boston                                  Closed          164\n",
       "                                              Open             62\n",
       "South Boston / South Boston Waterfront        Closed         2060\n",
       "                                              Open            483\n",
       "South End                                     Closed         1842\n",
       "                                              Open            295\n",
       "West Roxbury                                  Closed          949\n",
       "                                              Open            295\n",
       "Name: ontime, dtype: int64"
      ]
     },
     "execution_count": 70,
     "metadata": {},
     "output_type": "execute_result"
    }
   ],
   "source": [
    "case_by_neighborhood1.head(50)"
   ]
  },
  {
   "cell_type": "code",
   "execution_count": 71,
   "metadata": {},
   "outputs": [
    {
     "ename": "SyntaxError",
     "evalue": "invalid syntax (<ipython-input-71-7f6e6244a2f5>, line 1)",
     "output_type": "error",
     "traceback": [
      "\u001b[0;36m  File \u001b[0;32m\"<ipython-input-71-7f6e6244a2f5>\"\u001b[0;36m, line \u001b[0;32m1\u001b[0m\n\u001b[0;31m    len(df[df['borough'] == 'MANHATTAN']) / len(boston_311_data[])\u001b[0m\n\u001b[0m                                                                ^\u001b[0m\n\u001b[0;31mSyntaxError\u001b[0m\u001b[0;31m:\u001b[0m invalid syntax\n"
     ]
    }
   ],
   "source": [
    "len(df[df['borough'] == 'MANHATTAN']) / len(boston_311_data[])"
   ]
  },
  {
   "cell_type": "code",
   "execution_count": 77,
   "metadata": {},
   "outputs": [
    {
     "data": {
      "text/plain": [
       "open_dt                           False\n",
       "target_dt                          True\n",
       "closed_dt                          True\n",
       "ontime                            False\n",
       "case_status                       False\n",
       "case_title                        False\n",
       "subject                           False\n",
       "reason                            False\n",
       "type                              False\n",
       "department                        False\n",
       "submittedphoto                     True\n",
       "neighborhood                       True\n",
       "neighborhood_services_district     True\n",
       "location_street_name               True\n",
       "location_zipcode                   True\n",
       "latitude                          False\n",
       "longitude                         False\n",
       "source                            False\n",
       "text length                       False\n",
       "dtype: bool"
      ]
     },
     "execution_count": 77,
     "metadata": {},
     "output_type": "execute_result"
    }
   ],
   "source": [
    "boston_311_data.isnull().any()"
   ]
  },
  {
   "cell_type": "code",
   "execution_count": 78,
   "metadata": {},
   "outputs": [],
   "source": [
    "tokenized_titles = []\n",
    "for item in boston_311_data[\"case_title\"]:\n",
    "    tokenized_titles.append(item.split())"
   ]
  },
  {
   "cell_type": "code",
   "execution_count": 79,
   "metadata": {
    "scrolled": true
   },
   "outputs": [
    {
     "name": "stdout",
     "output_type": "stream",
     "text": [
      "[['\"All', 'Street', 'Lights', 'Out.\"', '(Check', 'Overhead)', '///Issued', 'to', 'Maverick', '-', 'EP'], ['Abandoned', 'Bicycle'], ['Abandoned', 'Bicycle'], ['Abandoned', 'Bicycle'], ['Abandoned', 'Bicycle'], ['Abandoned', 'Bicycle'], ['Abandoned', 'Bicycle'], ['Abandoned', 'Bicycle'], ['Abandoned', 'Bicycle']]\n"
     ]
    }
   ],
   "source": [
    "print(tokenized_titles[1:10])"
   ]
  },
  {
   "cell_type": "code",
   "execution_count": 80,
   "metadata": {},
   "outputs": [],
   "source": [
    "punctuation = [\",\", \":\", \";\", \".\", \"'\", '\"', \"’\", \"?\", \"/\", \"-\", \"+\", \"&\", \"(\", \")\"]\n",
    "new_tokenized = []\n",
    "for item in tokenized_titles:\n",
    "    tokens = []\n",
    "    for token in item:\n",
    "        token = token.lower()\n",
    "        for punc in punctuation:\n",
    "            token = token.replace(punc, \"\")\n",
    "        tokens.append(token)\n",
    "    new_tokenized.append(tokens)"
   ]
  },
  {
   "cell_type": "code",
   "execution_count": 85,
   "metadata": {},
   "outputs": [
    {
     "name": "stdout",
     "output_type": "stream",
     "text": [
      "[['all', 'street', 'lights', 'out', 'check', 'overhead', 'issued', 'to', 'maverick', '', 'ep'], ['abandoned', 'bicycle'], ['abandoned', 'bicycle'], ['abandoned', 'bicycle'], ['abandoned', 'bicycle'], ['abandoned', 'bicycle'], ['abandoned', 'bicycle'], ['abandoned', 'bicycle'], ['abandoned', 'bicycle']]\n"
     ]
    }
   ],
   "source": [
    "print(new_tokenized[1:10])"
   ]
  },
  {
   "cell_type": "code",
   "execution_count": 86,
   "metadata": {},
   "outputs": [],
   "source": [
    "from nltk.corpus import stopwords\n",
    "stop_words = stopwords.words('english')"
   ]
  },
  {
   "cell_type": "code",
   "execution_count": 87,
   "metadata": {},
   "outputs": [],
   "source": [
    "new_tokenized = [w for w in new_tokenized if not w in stop_words]"
   ]
  },
  {
   "cell_type": "code",
   "execution_count": 88,
   "metadata": {},
   "outputs": [],
   "source": [
    "unique_tokens = []\n",
    "single_tokens = []\n",
    "for tokens in new_tokenized:\n",
    "    for token in tokens:\n",
    "        if token not in single_tokens:\n",
    "            single_tokens.append(token)\n",
    "        elif token in single_tokens and token not in unique_tokens:\n",
    "            unique_tokens.append(token)\n",
    "\n",
    "counts = pd.DataFrame(0, index=np.arange(len(new_tokenized)), columns=unique_tokens)"
   ]
  },
  {
   "cell_type": "code",
   "execution_count": 89,
   "metadata": {},
   "outputs": [],
   "source": [
    "for i, item in enumerate(new_tokenized):\n",
    "    for token in item:\n",
    "        if token in unique_tokens:\n",
    "            counts.iloc[i][token] += 1"
   ]
  },
  {
   "cell_type": "code",
   "execution_count": 90,
   "metadata": {},
   "outputs": [],
   "source": [
    "word_counts = counts.sum(axis=0)"
   ]
  },
  {
   "cell_type": "code",
   "execution_count": 91,
   "metadata": {},
   "outputs": [
    {
     "data": {
      "text/plain": [
       "                2097\n",
       "street          2873\n",
       "abandoned       1024\n",
       "bicycle          136\n",
       "bike               6\n",
       "building         132\n",
       "vehicles         878\n",
       "aircraft           2\n",
       "noise             67\n",
       "disturbance        9\n",
       "animal           883\n",
       "found             52\n",
       "generic          277\n",
       "request         6283\n",
       "lost              38\n",
       "disturbances      22\n",
       "automotive         4\n",
       "bed               21\n",
       "bugs              21\n",
       "big                5\n",
       "dtype: int64"
      ]
     },
     "execution_count": 91,
     "metadata": {},
     "output_type": "execute_result"
    }
   ],
   "source": [
    "word_counts.head(20)"
   ]
  },
  {
   "cell_type": "code",
   "execution_count": 92,
   "metadata": {},
   "outputs": [],
   "source": [
    "top_words = word_counts.sort_values(ascending=False)"
   ]
  },
  {
   "cell_type": "code",
   "execution_count": 93,
   "metadata": {},
   "outputs": [
    {
     "name": "stdout",
     "output_type": "stream",
     "text": [
      "request        6283\n",
      "parking        5826\n",
      "enforcement    5723\n",
      "repair         5389\n",
      "pothole        3556\n",
      "recycling      3449\n",
      "requests       3381\n",
      "pickup         3039\n",
      "cart           3002\n",
      "street         2873\n",
      "trash          2382\n",
      "of             2348\n",
      "cleaning       2292\n",
      "               2097\n",
      "item           1875\n",
      "bulk           1818\n",
      "schedule       1764\n",
      "sidewalk       1557\n",
      "improper       1544\n",
      "dtype: int64\n"
     ]
    }
   ],
   "source": [
    "print(top_words[1:20])"
   ]
  },
  {
   "cell_type": "code",
   "execution_count": 94,
   "metadata": {},
   "outputs": [
    {
     "ename": "NameError",
     "evalue": "name 'yelp_reviews' is not defined",
     "output_type": "error",
     "traceback": [
      "\u001b[0;31m---------------------------------------------------------------------------\u001b[0m",
      "\u001b[0;31mNameError\u001b[0m                                 Traceback (most recent call last)",
      "\u001b[0;32m<ipython-input-94-2a2930b72069>\u001b[0m in \u001b[0;36m<module>\u001b[0;34m()\u001b[0m\n\u001b[0;32m----> 1\u001b[0;31m \u001b[0mgrid\u001b[0m \u001b[0;34m=\u001b[0m \u001b[0msns\u001b[0m\u001b[0;34m.\u001b[0m\u001b[0mFacetGrid\u001b[0m\u001b[0;34m(\u001b[0m\u001b[0myelp_reviews\u001b[0m\u001b[0;34m,\u001b[0m\u001b[0mcol\u001b[0m\u001b[0;34m=\u001b[0m\u001b[0;34m'stars'\u001b[0m\u001b[0;34m)\u001b[0m\u001b[0;34m\u001b[0m\u001b[0m\n\u001b[0m\u001b[1;32m      2\u001b[0m \u001b[0mgrid\u001b[0m\u001b[0;34m.\u001b[0m\u001b[0mmap\u001b[0m\u001b[0;34m(\u001b[0m\u001b[0mplt\u001b[0m\u001b[0;34m.\u001b[0m\u001b[0mhist\u001b[0m\u001b[0;34m,\u001b[0m\u001b[0;34m'text length'\u001b[0m\u001b[0;34m)\u001b[0m\u001b[0;34m\u001b[0m\u001b[0m\n",
      "\u001b[0;31mNameError\u001b[0m: name 'yelp_reviews' is not defined"
     ]
    }
   ],
   "source": [
    "grid = sns.FacetGrid(yelp_reviews,col='stars')\n",
    "grid.map(plt.hist,'text length')"
   ]
  },
  {
   "cell_type": "code",
   "execution_count": 95,
   "metadata": {},
   "outputs": [
    {
     "data": {
      "image/png": "[encoded data removed]",
      "text/plain": [
       "<Figure size 432x288 with 1 Axes>"
      ]
     },
     "metadata": {},
     "output_type": "display_data"
    }
   ],
   "source": [
    "top_words[2:12].plot(kind='bar')\n",
    "sns.set(style=\"darkgrid\",palette=\"pastel\")\n",
    "plt.title('Most Common Topics Found in Case Titles', size=12)\n",
    "plt.ylabel('Count', size=10)\n",
    "plt.xticks(rotation=45,size=7)\n",
    "plt.savefig('/Users/johnmorales/newone1.eps', format='eps')"
   ]
  },
  {
   "cell_type": "code",
   "execution_count": 96,
   "metadata": {},
   "outputs": [],
   "source": [
    "filtered_top_words = top_words[2:12]"
   ]
  },
  {
   "cell_type": "code",
   "execution_count": 97,
   "metadata": {},
   "outputs": [
    {
     "name": "stdout",
     "output_type": "stream",
     "text": [
      "parking        5826\n",
      "enforcement    5723\n",
      "repair         5389\n",
      "pothole        3556\n",
      "recycling      3449\n",
      "requests       3381\n",
      "pickup         3039\n",
      "cart           3002\n",
      "street         2873\n",
      "trash          2382\n",
      "dtype: int64\n"
     ]
    }
   ],
   "source": [
    "print(filtered_top_words)"
   ]
  },
  {
   "cell_type": "code",
   "execution_count": 98,
   "metadata": {},
   "outputs": [
    {
     "name": "stderr",
     "output_type": "stream",
     "text": [
      "/Users/johnmorales/anaconda3/lib/python3.6/site-packages/matplotlib/axes/_axes.py:6462: UserWarning: The 'normed' kwarg is deprecated, and has been replaced by the 'density' kwarg.\n",
      "  warnings.warn(\"The 'normed' kwarg is deprecated, and has been \"\n"
     ]
    },
    {
     "data": {
      "text/plain": [
       "<matplotlib.axes._subplots.AxesSubplot at 0x1a297a5940>"
      ]
     },
     "execution_count": 98,
     "metadata": {},
     "output_type": "execute_result"
    },
    {
     "data": {
      "image/png": "[encoded data removed]",
      "text/plain": [
       "<Figure size 432x288 with 1 Axes>"
      ]
     },
     "metadata": {},
     "output_type": "display_data"
    }
   ],
   "source": [
    "sns.distplot(filtered_top_words)"
   ]
  },
  {
   "cell_type": "code",
   "execution_count": 114,
   "metadata": {},
   "outputs": [
    {
     "ename": "ValueError",
     "evalue": "Could not interpret input 'topwords[2:30]'",
     "output_type": "error",
     "traceback": [
      "\u001b[0;31m---------------------------------------------------------------------------\u001b[0m",
      "\u001b[0;31mValueError\u001b[0m                                Traceback (most recent call last)",
      "\u001b[0;32m<ipython-input-114-334b795f8583>\u001b[0m in \u001b[0;36m<module>\u001b[0;34m()\u001b[0m\n\u001b[0;32m----> 1\u001b[0;31m \u001b[0msns\u001b[0m\u001b[0;34m.\u001b[0m\u001b[0mcountplot\u001b[0m\u001b[0;34m(\u001b[0m\u001b[0mx\u001b[0m\u001b[0;34m=\u001b[0m\u001b[0;34m'topwords[2:30]'\u001b[0m\u001b[0;34m,\u001b[0m\u001b[0mdata\u001b[0m\u001b[0;34m=\u001b[0m\u001b[0mtop_words\u001b[0m\u001b[0;34m,\u001b[0m\u001b[0mpalette\u001b[0m\u001b[0;34m=\u001b[0m\u001b[0;34m'muted'\u001b[0m\u001b[0;34m)\u001b[0m\u001b[0;34m\u001b[0m\u001b[0m\n\u001b[0m",
      "\u001b[0;32m~/anaconda3/lib/python3.6/site-packages/seaborn/categorical.py\u001b[0m in \u001b[0;36mcountplot\u001b[0;34m(x, y, hue, data, order, hue_order, orient, color, palette, saturation, dodge, ax, **kwargs)\u001b[0m\n\u001b[1;32m   3357\u001b[0m                           \u001b[0mestimator\u001b[0m\u001b[0;34m,\u001b[0m \u001b[0mci\u001b[0m\u001b[0;34m,\u001b[0m \u001b[0mn_boot\u001b[0m\u001b[0;34m,\u001b[0m \u001b[0munits\u001b[0m\u001b[0;34m,\u001b[0m\u001b[0;34m\u001b[0m\u001b[0m\n\u001b[1;32m   3358\u001b[0m                           \u001b[0morient\u001b[0m\u001b[0;34m,\u001b[0m \u001b[0mcolor\u001b[0m\u001b[0;34m,\u001b[0m \u001b[0mpalette\u001b[0m\u001b[0;34m,\u001b[0m \u001b[0msaturation\u001b[0m\u001b[0;34m,\u001b[0m\u001b[0;34m\u001b[0m\u001b[0m\n\u001b[0;32m-> 3359\u001b[0;31m                           errcolor, errwidth, capsize, dodge)\n\u001b[0m\u001b[1;32m   3360\u001b[0m \u001b[0;34m\u001b[0m\u001b[0m\n\u001b[1;32m   3361\u001b[0m     \u001b[0mplotter\u001b[0m\u001b[0;34m.\u001b[0m\u001b[0mvalue_label\u001b[0m \u001b[0;34m=\u001b[0m \u001b[0;34m\"count\"\u001b[0m\u001b[0;34m\u001b[0m\u001b[0m\n",
      "\u001b[0;32m~/anaconda3/lib/python3.6/site-packages/seaborn/categorical.py\u001b[0m in \u001b[0;36m__init__\u001b[0;34m(self, x, y, hue, data, order, hue_order, estimator, ci, n_boot, units, orient, color, palette, saturation, errcolor, errwidth, capsize, dodge)\u001b[0m\n\u001b[1;32m   1594\u001b[0m         \u001b[0;34m\"\"\"Initialize the plotter.\"\"\"\u001b[0m\u001b[0;34m\u001b[0m\u001b[0m\n\u001b[1;32m   1595\u001b[0m         self.establish_variables(x, y, hue, data, orient,\n\u001b[0;32m-> 1596\u001b[0;31m                                  order, hue_order, units)\n\u001b[0m\u001b[1;32m   1597\u001b[0m         \u001b[0mself\u001b[0m\u001b[0;34m.\u001b[0m\u001b[0mestablish_colors\u001b[0m\u001b[0;34m(\u001b[0m\u001b[0mcolor\u001b[0m\u001b[0;34m,\u001b[0m \u001b[0mpalette\u001b[0m\u001b[0;34m,\u001b[0m \u001b[0msaturation\u001b[0m\u001b[0;34m)\u001b[0m\u001b[0;34m\u001b[0m\u001b[0m\n\u001b[1;32m   1598\u001b[0m         \u001b[0mself\u001b[0m\u001b[0;34m.\u001b[0m\u001b[0mestimate_statistic\u001b[0m\u001b[0;34m(\u001b[0m\u001b[0mestimator\u001b[0m\u001b[0;34m,\u001b[0m \u001b[0mci\u001b[0m\u001b[0;34m,\u001b[0m \u001b[0mn_boot\u001b[0m\u001b[0;34m)\u001b[0m\u001b[0;34m\u001b[0m\u001b[0m\n",
      "\u001b[0;32m~/anaconda3/lib/python3.6/site-packages/seaborn/categorical.py\u001b[0m in \u001b[0;36mestablish_variables\u001b[0;34m(self, x, y, hue, data, orient, order, hue_order, units)\u001b[0m\n\u001b[1;32m    149\u001b[0m                 \u001b[0;32mif\u001b[0m \u001b[0misinstance\u001b[0m\u001b[0;34m(\u001b[0m\u001b[0minput\u001b[0m\u001b[0;34m,\u001b[0m \u001b[0mstring_types\u001b[0m\u001b[0;34m)\u001b[0m\u001b[0;34m:\u001b[0m\u001b[0;34m\u001b[0m\u001b[0m\n\u001b[1;32m    150\u001b[0m                     \u001b[0merr\u001b[0m \u001b[0;34m=\u001b[0m \u001b[0;34m\"Could not interpret input '{}'\"\u001b[0m\u001b[0;34m.\u001b[0m\u001b[0mformat\u001b[0m\u001b[0;34m(\u001b[0m\u001b[0minput\u001b[0m\u001b[0;34m)\u001b[0m\u001b[0;34m\u001b[0m\u001b[0m\n\u001b[0;32m--> 151\u001b[0;31m                     \u001b[0;32mraise\u001b[0m \u001b[0mValueError\u001b[0m\u001b[0;34m(\u001b[0m\u001b[0merr\u001b[0m\u001b[0;34m)\u001b[0m\u001b[0;34m\u001b[0m\u001b[0m\n\u001b[0m\u001b[1;32m    152\u001b[0m \u001b[0;34m\u001b[0m\u001b[0m\n\u001b[1;32m    153\u001b[0m             \u001b[0;31m# Figure out the plotting orientation\u001b[0m\u001b[0;34m\u001b[0m\u001b[0;34m\u001b[0m\u001b[0m\n",
      "\u001b[0;31mValueError\u001b[0m: Could not interpret input 'topwords[2:30]'"
     ]
    }
   ],
   "source": [
    "sns.countplot(x='topwords[2:30]',data=top_words,palette='muted')"
   ]
  },
  {
   "cell_type": "code",
   "execution_count": 34,
   "metadata": {},
   "outputs": [
    {
     "ename": "ValueError",
     "evalue": "could not convert string to float: '2/18/20 6:46'",
     "output_type": "error",
     "traceback": [
      "\u001b[0;31m---------------------------------------------------------------------------\u001b[0m",
      "\u001b[0;31mValueError\u001b[0m                                Traceback (most recent call last)",
      "\u001b[0;32m<ipython-input-34-7da18102fd3b>\u001b[0m in \u001b[0;36m<module>\u001b[0;34m()\u001b[0m\n\u001b[0;32m----> 1\u001b[0;31m \u001b[0mplt\u001b[0m\u001b[0;34m.\u001b[0m\u001b[0mscatter\u001b[0m\u001b[0;34m(\u001b[0m\u001b[0mboston_311_data\u001b[0m\u001b[0;34m[\u001b[0m\u001b[0;34m'submittedphoto'\u001b[0m\u001b[0;34m]\u001b[0m\u001b[0;34m,\u001b[0m \u001b[0mboston_311_data\u001b[0m\u001b[0;34m[\u001b[0m\u001b[0;34m'closed_dt'\u001b[0m\u001b[0;34m]\u001b[0m\u001b[0;34m,\u001b[0m \u001b[0mmarker\u001b[0m\u001b[0;34m=\u001b[0m\u001b[0;34m'o'\u001b[0m\u001b[0;34m,\u001b[0m \u001b[0mcolor\u001b[0m\u001b[0;34m=\u001b[0m\u001b[0;34m'orange'\u001b[0m\u001b[0;34m)\u001b[0m\u001b[0;34m\u001b[0m\u001b[0m\n\u001b[0m\u001b[1;32m      2\u001b[0m \u001b[0mplt\u001b[0m\u001b[0;34m.\u001b[0m\u001b[0mxlabel\u001b[0m\u001b[0;34m(\u001b[0m\u001b[0;34m'Beer Servings'\u001b[0m\u001b[0;34m)\u001b[0m\u001b[0;34m\u001b[0m\u001b[0m\n\u001b[1;32m      3\u001b[0m \u001b[0mplt\u001b[0m\u001b[0;34m.\u001b[0m\u001b[0mylabel\u001b[0m\u001b[0;34m(\u001b[0m\u001b[0;34m'Total Litres of Pure Alcohol'\u001b[0m\u001b[0;34m)\u001b[0m\u001b[0;34m\u001b[0m\u001b[0m\n\u001b[1;32m      4\u001b[0m \u001b[0mplt\u001b[0m\u001b[0;34m.\u001b[0m\u001b[0mlegend\u001b[0m\u001b[0;34m(\u001b[0m\u001b[0mloc\u001b[0m\u001b[0;34m=\u001b[0m\u001b[0;34m'upper right'\u001b[0m\u001b[0;34m)\u001b[0m\u001b[0;34m\u001b[0m\u001b[0m\n\u001b[1;32m      5\u001b[0m \u001b[0mplt\u001b[0m\u001b[0;34m.\u001b[0m\u001b[0mshow\u001b[0m\u001b[0;34m(\u001b[0m\u001b[0;34m)\u001b[0m\u001b[0;34m\u001b[0m\u001b[0m\n",
      "\u001b[0;32m~/anaconda3/lib/python3.6/site-packages/matplotlib/pyplot.py\u001b[0m in \u001b[0;36mscatter\u001b[0;34m(x, y, s, c, marker, cmap, norm, vmin, vmax, alpha, linewidths, verts, edgecolors, hold, data, **kwargs)\u001b[0m\n\u001b[1;32m   3468\u001b[0m                          \u001b[0mvmin\u001b[0m\u001b[0;34m=\u001b[0m\u001b[0mvmin\u001b[0m\u001b[0;34m,\u001b[0m \u001b[0mvmax\u001b[0m\u001b[0;34m=\u001b[0m\u001b[0mvmax\u001b[0m\u001b[0;34m,\u001b[0m \u001b[0malpha\u001b[0m\u001b[0;34m=\u001b[0m\u001b[0malpha\u001b[0m\u001b[0;34m,\u001b[0m\u001b[0;34m\u001b[0m\u001b[0m\n\u001b[1;32m   3469\u001b[0m                          \u001b[0mlinewidths\u001b[0m\u001b[0;34m=\u001b[0m\u001b[0mlinewidths\u001b[0m\u001b[0;34m,\u001b[0m \u001b[0mverts\u001b[0m\u001b[0;34m=\u001b[0m\u001b[0mverts\u001b[0m\u001b[0;34m,\u001b[0m\u001b[0;34m\u001b[0m\u001b[0m\n\u001b[0;32m-> 3470\u001b[0;31m                          edgecolors=edgecolors, data=data, **kwargs)\n\u001b[0m\u001b[1;32m   3471\u001b[0m     \u001b[0;32mfinally\u001b[0m\u001b[0;34m:\u001b[0m\u001b[0;34m\u001b[0m\u001b[0m\n\u001b[1;32m   3472\u001b[0m         \u001b[0max\u001b[0m\u001b[0;34m.\u001b[0m\u001b[0m_hold\u001b[0m \u001b[0;34m=\u001b[0m \u001b[0mwashold\u001b[0m\u001b[0;34m\u001b[0m\u001b[0m\n",
      "\u001b[0;32m~/anaconda3/lib/python3.6/site-packages/matplotlib/__init__.py\u001b[0m in \u001b[0;36minner\u001b[0;34m(ax, *args, **kwargs)\u001b[0m\n\u001b[1;32m   1853\u001b[0m                         \u001b[0;34m\"the Matplotlib list!)\"\u001b[0m \u001b[0;34m%\u001b[0m \u001b[0;34m(\u001b[0m\u001b[0mlabel_namer\u001b[0m\u001b[0;34m,\u001b[0m \u001b[0mfunc\u001b[0m\u001b[0;34m.\u001b[0m\u001b[0m__name__\u001b[0m\u001b[0;34m)\u001b[0m\u001b[0;34m,\u001b[0m\u001b[0;34m\u001b[0m\u001b[0m\n\u001b[1;32m   1854\u001b[0m                         RuntimeWarning, stacklevel=2)\n\u001b[0;32m-> 1855\u001b[0;31m             \u001b[0;32mreturn\u001b[0m \u001b[0mfunc\u001b[0m\u001b[0;34m(\u001b[0m\u001b[0max\u001b[0m\u001b[0;34m,\u001b[0m \u001b[0;34m*\u001b[0m\u001b[0margs\u001b[0m\u001b[0;34m,\u001b[0m \u001b[0;34m**\u001b[0m\u001b[0mkwargs\u001b[0m\u001b[0;34m)\u001b[0m\u001b[0;34m\u001b[0m\u001b[0m\n\u001b[0m\u001b[1;32m   1856\u001b[0m \u001b[0;34m\u001b[0m\u001b[0m\n\u001b[1;32m   1857\u001b[0m         inner.__doc__ = _add_data_doc(inner.__doc__,\n",
      "\u001b[0;32m~/anaconda3/lib/python3.6/site-packages/matplotlib/axes/_axes.py\u001b[0m in \u001b[0;36mscatter\u001b[0;34m(self, x, y, s, c, marker, cmap, norm, vmin, vmax, alpha, linewidths, verts, edgecolors, **kwargs)\u001b[0m\n\u001b[1;32m   4318\u001b[0m                 \u001b[0moffsets\u001b[0m\u001b[0;34m=\u001b[0m\u001b[0moffsets\u001b[0m\u001b[0;34m,\u001b[0m\u001b[0;34m\u001b[0m\u001b[0m\n\u001b[1;32m   4319\u001b[0m                 \u001b[0mtransOffset\u001b[0m\u001b[0;34m=\u001b[0m\u001b[0mkwargs\u001b[0m\u001b[0;34m.\u001b[0m\u001b[0mpop\u001b[0m\u001b[0;34m(\u001b[0m\u001b[0;34m'transform'\u001b[0m\u001b[0;34m,\u001b[0m \u001b[0mself\u001b[0m\u001b[0;34m.\u001b[0m\u001b[0mtransData\u001b[0m\u001b[0;34m)\u001b[0m\u001b[0;34m,\u001b[0m\u001b[0;34m\u001b[0m\u001b[0m\n\u001b[0;32m-> 4320\u001b[0;31m                 \u001b[0malpha\u001b[0m\u001b[0;34m=\u001b[0m\u001b[0malpha\u001b[0m\u001b[0;34m\u001b[0m\u001b[0m\n\u001b[0m\u001b[1;32m   4321\u001b[0m                 )\n\u001b[1;32m   4322\u001b[0m         \u001b[0mcollection\u001b[0m\u001b[0;34m.\u001b[0m\u001b[0mset_transform\u001b[0m\u001b[0;34m(\u001b[0m\u001b[0mmtransforms\u001b[0m\u001b[0;34m.\u001b[0m\u001b[0mIdentityTransform\u001b[0m\u001b[0;34m(\u001b[0m\u001b[0;34m)\u001b[0m\u001b[0;34m)\u001b[0m\u001b[0;34m\u001b[0m\u001b[0m\n",
      "\u001b[0;32m~/anaconda3/lib/python3.6/site-packages/matplotlib/collections.py\u001b[0m in \u001b[0;36m__init__\u001b[0;34m(self, paths, sizes, **kwargs)\u001b[0m\n\u001b[1;32m    925\u001b[0m         \"\"\"\n\u001b[1;32m    926\u001b[0m \u001b[0;34m\u001b[0m\u001b[0m\n\u001b[0;32m--> 927\u001b[0;31m         \u001b[0mCollection\u001b[0m\u001b[0;34m.\u001b[0m\u001b[0m__init__\u001b[0m\u001b[0;34m(\u001b[0m\u001b[0mself\u001b[0m\u001b[0;34m,\u001b[0m \u001b[0;34m**\u001b[0m\u001b[0mkwargs\u001b[0m\u001b[0;34m)\u001b[0m\u001b[0;34m\u001b[0m\u001b[0m\n\u001b[0m\u001b[1;32m    928\u001b[0m         \u001b[0mself\u001b[0m\u001b[0;34m.\u001b[0m\u001b[0mset_paths\u001b[0m\u001b[0;34m(\u001b[0m\u001b[0mpaths\u001b[0m\u001b[0;34m)\u001b[0m\u001b[0;34m\u001b[0m\u001b[0m\n\u001b[1;32m    929\u001b[0m         \u001b[0mself\u001b[0m\u001b[0;34m.\u001b[0m\u001b[0mset_sizes\u001b[0m\u001b[0;34m(\u001b[0m\u001b[0msizes\u001b[0m\u001b[0;34m)\u001b[0m\u001b[0;34m\u001b[0m\u001b[0m\n",
      "\u001b[0;32m~/anaconda3/lib/python3.6/site-packages/matplotlib/collections.py\u001b[0m in \u001b[0;36m__init__\u001b[0;34m(self, edgecolors, facecolors, linewidths, linestyles, capstyle, joinstyle, antialiaseds, offsets, transOffset, norm, cmap, pickradius, hatch, urls, offset_position, zorder, **kwargs)\u001b[0m\n\u001b[1;32m    157\u001b[0m         \u001b[0mself\u001b[0m\u001b[0;34m.\u001b[0m\u001b[0m_uniform_offsets\u001b[0m \u001b[0;34m=\u001b[0m \u001b[0;32mNone\u001b[0m\u001b[0;34m\u001b[0m\u001b[0m\n\u001b[1;32m    158\u001b[0m         \u001b[0;32mif\u001b[0m \u001b[0moffsets\u001b[0m \u001b[0;32mis\u001b[0m \u001b[0;32mnot\u001b[0m \u001b[0;32mNone\u001b[0m\u001b[0;34m:\u001b[0m\u001b[0;34m\u001b[0m\u001b[0m\n\u001b[0;32m--> 159\u001b[0;31m             \u001b[0moffsets\u001b[0m \u001b[0;34m=\u001b[0m \u001b[0mnp\u001b[0m\u001b[0;34m.\u001b[0m\u001b[0masanyarray\u001b[0m\u001b[0;34m(\u001b[0m\u001b[0moffsets\u001b[0m\u001b[0;34m,\u001b[0m \u001b[0mfloat\u001b[0m\u001b[0;34m)\u001b[0m\u001b[0;34m\u001b[0m\u001b[0m\n\u001b[0m\u001b[1;32m    160\u001b[0m             \u001b[0;31m# Broadcast (2,) -> (1, 2) but nothing else.\u001b[0m\u001b[0;34m\u001b[0m\u001b[0;34m\u001b[0m\u001b[0m\n\u001b[1;32m    161\u001b[0m             \u001b[0;32mif\u001b[0m \u001b[0moffsets\u001b[0m\u001b[0;34m.\u001b[0m\u001b[0mshape\u001b[0m \u001b[0;34m==\u001b[0m \u001b[0;34m(\u001b[0m\u001b[0;36m2\u001b[0m\u001b[0;34m,\u001b[0m\u001b[0;34m)\u001b[0m\u001b[0;34m:\u001b[0m\u001b[0;34m\u001b[0m\u001b[0m\n",
      "\u001b[0;32m~/anaconda3/lib/python3.6/site-packages/numpy/core/numeric.py\u001b[0m in \u001b[0;36masanyarray\u001b[0;34m(a, dtype, order)\u001b[0m\n\u001b[1;32m    542\u001b[0m \u001b[0;34m\u001b[0m\u001b[0m\n\u001b[1;32m    543\u001b[0m     \"\"\"\n\u001b[0;32m--> 544\u001b[0;31m     \u001b[0;32mreturn\u001b[0m \u001b[0marray\u001b[0m\u001b[0;34m(\u001b[0m\u001b[0ma\u001b[0m\u001b[0;34m,\u001b[0m \u001b[0mdtype\u001b[0m\u001b[0;34m,\u001b[0m \u001b[0mcopy\u001b[0m\u001b[0;34m=\u001b[0m\u001b[0;32mFalse\u001b[0m\u001b[0;34m,\u001b[0m \u001b[0morder\u001b[0m\u001b[0;34m=\u001b[0m\u001b[0morder\u001b[0m\u001b[0;34m,\u001b[0m \u001b[0msubok\u001b[0m\u001b[0;34m=\u001b[0m\u001b[0;32mTrue\u001b[0m\u001b[0;34m)\u001b[0m\u001b[0;34m\u001b[0m\u001b[0m\n\u001b[0m\u001b[1;32m    545\u001b[0m \u001b[0;34m\u001b[0m\u001b[0m\n\u001b[1;32m    546\u001b[0m \u001b[0;34m\u001b[0m\u001b[0m\n",
      "\u001b[0;31mValueError\u001b[0m: could not convert string to float: '2/18/20 6:46'"
     ]
    },
    {
     "data": {
      "image/png": "[encoded data removed]",
      "text/plain": [
       "<Figure size 432x288 with 1 Axes>"
      ]
     },
     "metadata": {},
     "output_type": "display_data"
    }
   ],
   "source": [
    "plt.scatter(boston_311_data['submittedphoto'], boston_311_data['closed_dt'], marker='o', color='orange')\n",
    "plt.xlabel('Beer Servings')\n",
    "plt.ylabel('Total Litres of Pure Alcohol')\n",
    "plt.legend(loc='upper right')\n",
    "plt.show()"
   ]
  },
  {
   "cell_type": "code",
   "execution_count": 36,
   "metadata": {},
   "outputs": [
    {
     "name": "stdout",
     "output_type": "stream",
     "text": [
      "<class 'pandas.core.frame.DataFrame'>\n",
      "RangeIndex: 35774 entries, 0 to 35773\n",
      "Data columns (total 29 columns):\n",
      "case_enquiry_id                   35774 non-null float64\n",
      "open_dt                           35774 non-null object\n",
      "target_dt                         31427 non-null object\n",
      "closed_dt                         28089 non-null object\n",
      "ontime                            35774 non-null object\n",
      "case_status                       35774 non-null object\n",
      "closure_reason                    35774 non-null object\n",
      "case_title                        35774 non-null object\n",
      "subject                           35774 non-null object\n",
      "reason                            35774 non-null object\n",
      "type                              35774 non-null object\n",
      "queue                             35774 non-null object\n",
      "department                        35774 non-null object\n",
      "submittedphoto                    16267 non-null object\n",
      "closedphoto                       8225 non-null object\n",
      "location                          35774 non-null object\n",
      "fire_district                     35704 non-null object\n",
      "pwd_district                      35761 non-null object\n",
      "city_council_district             35773 non-null object\n",
      "police_district                   35762 non-null object\n",
      "neighborhood                      35737 non-null object\n",
      "neighborhood_services_district    35773 non-null object\n",
      "ward                              35774 non-null object\n",
      "precinct                          35756 non-null object\n",
      "location_street_name              35385 non-null object\n",
      "location_zipcode                  27313 non-null float64\n",
      "latitude                          35774 non-null float64\n",
      "longitude                         35774 non-null float64\n",
      "source                            35774 non-null object\n",
      "dtypes: float64(4), object(25)\n",
      "memory usage: 7.9+ MB\n"
     ]
    }
   ],
   "source": [
    "boston_311_data.info()"
   ]
  },
  {
   "cell_type": "code",
   "execution_count": null,
   "metadata": {},
   "outputs": [],
   "source": [
    "over_5 = rwd.loc[(rwd['quality'] > 5)]\n",
    "less_5 = rwd.loc[(rwd['quality'] < 5)]\n",
    "equal_5 = rwd.loc[(rwd['quality'] == 5)]"
   ]
  },
  {
   "cell_type": "code",
   "execution_count": 347,
   "metadata": {},
   "outputs": [
    {
     "ename": "TypeError",
     "evalue": "'Series' objects are mutable, thus they cannot be hashed",
     "output_type": "error",
     "traceback": [
      "\u001b[0;31m---------------------------------------------------------------------------\u001b[0m",
      "\u001b[0;31mTypeError\u001b[0m                                 Traceback (most recent call last)",
      "\u001b[0;32m<ipython-input-347-89b26249a5cc>\u001b[0m in \u001b[0;36m<module>\u001b[0;34m()\u001b[0m\n\u001b[0;32m----> 1\u001b[0;31m \u001b[0mcase_resolutions\u001b[0m \u001b[0;34m=\u001b[0m \u001b[0mcounts\u001b[0m\u001b[0;34m.\u001b[0m\u001b[0msum\u001b[0m\u001b[0;34m(\u001b[0m\u001b[0mboston_311_data\u001b[0m\u001b[0;34m[\u001b[0m\u001b[0;34m'case_status'\u001b[0m\u001b[0;34m]\u001b[0m\u001b[0;34m)\u001b[0m\u001b[0;34m\u001b[0m\u001b[0m\n\u001b[0m",
      "\u001b[0;32m~/anaconda3/lib/python3.6/site-packages/pandas/core/generic.py\u001b[0m in \u001b[0;36mstat_func\u001b[0;34m(self, axis, skipna, level, numeric_only, min_count, **kwargs)\u001b[0m\n\u001b[1;32m   9567\u001b[0m                                       skipna=skipna, min_count=min_count)\n\u001b[1;32m   9568\u001b[0m         return self._reduce(f, name, axis=axis, skipna=skipna,\n\u001b[0;32m-> 9569\u001b[0;31m                             numeric_only=numeric_only, min_count=min_count)\n\u001b[0m\u001b[1;32m   9570\u001b[0m \u001b[0;34m\u001b[0m\u001b[0m\n\u001b[1;32m   9571\u001b[0m     \u001b[0;32mreturn\u001b[0m \u001b[0mset_function_name\u001b[0m\u001b[0;34m(\u001b[0m\u001b[0mstat_func\u001b[0m\u001b[0;34m,\u001b[0m \u001b[0mname\u001b[0m\u001b[0;34m,\u001b[0m \u001b[0mcls\u001b[0m\u001b[0;34m)\u001b[0m\u001b[0;34m\u001b[0m\u001b[0m\n",
      "\u001b[0;32m~/anaconda3/lib/python3.6/site-packages/pandas/core/frame.py\u001b[0m in \u001b[0;36m_reduce\u001b[0;34m(self, op, name, axis, skipna, numeric_only, filter_type, **kwds)\u001b[0m\n\u001b[1;32m   6835\u001b[0m     def _reduce(self, op, name, axis=0, skipna=True, numeric_only=None,\n\u001b[1;32m   6836\u001b[0m                 filter_type=None, **kwds):\n\u001b[0;32m-> 6837\u001b[0;31m         \u001b[0maxis\u001b[0m \u001b[0;34m=\u001b[0m \u001b[0mself\u001b[0m\u001b[0;34m.\u001b[0m\u001b[0m_get_axis_number\u001b[0m\u001b[0;34m(\u001b[0m\u001b[0maxis\u001b[0m\u001b[0;34m)\u001b[0m\u001b[0;34m\u001b[0m\u001b[0m\n\u001b[0m\u001b[1;32m   6838\u001b[0m \u001b[0;34m\u001b[0m\u001b[0m\n\u001b[1;32m   6839\u001b[0m         \u001b[0;32mdef\u001b[0m \u001b[0mf\u001b[0m\u001b[0;34m(\u001b[0m\u001b[0mx\u001b[0m\u001b[0;34m)\u001b[0m\u001b[0;34m:\u001b[0m\u001b[0;34m\u001b[0m\u001b[0m\n",
      "\u001b[0;32m~/anaconda3/lib/python3.6/site-packages/pandas/core/generic.py\u001b[0m in \u001b[0;36m_get_axis_number\u001b[0;34m(self, axis)\u001b[0m\n\u001b[1;32m    362\u001b[0m \u001b[0;34m\u001b[0m\u001b[0m\n\u001b[1;32m    363\u001b[0m     \u001b[0;32mdef\u001b[0m \u001b[0m_get_axis_number\u001b[0m\u001b[0;34m(\u001b[0m\u001b[0mself\u001b[0m\u001b[0;34m,\u001b[0m \u001b[0maxis\u001b[0m\u001b[0;34m)\u001b[0m\u001b[0;34m:\u001b[0m\u001b[0;34m\u001b[0m\u001b[0m\n\u001b[0;32m--> 364\u001b[0;31m         \u001b[0maxis\u001b[0m \u001b[0;34m=\u001b[0m \u001b[0mself\u001b[0m\u001b[0;34m.\u001b[0m\u001b[0m_AXIS_ALIASES\u001b[0m\u001b[0;34m.\u001b[0m\u001b[0mget\u001b[0m\u001b[0;34m(\u001b[0m\u001b[0maxis\u001b[0m\u001b[0;34m,\u001b[0m \u001b[0maxis\u001b[0m\u001b[0;34m)\u001b[0m\u001b[0;34m\u001b[0m\u001b[0m\n\u001b[0m\u001b[1;32m    365\u001b[0m         \u001b[0;32mif\u001b[0m \u001b[0mis_integer\u001b[0m\u001b[0;34m(\u001b[0m\u001b[0maxis\u001b[0m\u001b[0;34m)\u001b[0m\u001b[0;34m:\u001b[0m\u001b[0;34m\u001b[0m\u001b[0m\n\u001b[1;32m    366\u001b[0m             \u001b[0;32mif\u001b[0m \u001b[0maxis\u001b[0m \u001b[0;32min\u001b[0m \u001b[0mself\u001b[0m\u001b[0;34m.\u001b[0m\u001b[0m_AXIS_NAMES\u001b[0m\u001b[0;34m:\u001b[0m\u001b[0;34m\u001b[0m\u001b[0m\n",
      "\u001b[0;32m~/anaconda3/lib/python3.6/site-packages/pandas/core/generic.py\u001b[0m in \u001b[0;36m__hash__\u001b[0;34m(self)\u001b[0m\n\u001b[1;32m   1487\u001b[0m     \u001b[0;32mdef\u001b[0m \u001b[0m__hash__\u001b[0m\u001b[0;34m(\u001b[0m\u001b[0mself\u001b[0m\u001b[0;34m)\u001b[0m\u001b[0;34m:\u001b[0m\u001b[0;34m\u001b[0m\u001b[0m\n\u001b[1;32m   1488\u001b[0m         raise TypeError('{0!r} objects are mutable, thus they cannot be'\n\u001b[0;32m-> 1489\u001b[0;31m                         ' hashed'.format(self.__class__.__name__))\n\u001b[0m\u001b[1;32m   1490\u001b[0m \u001b[0;34m\u001b[0m\u001b[0m\n\u001b[1;32m   1491\u001b[0m     \u001b[0;32mdef\u001b[0m \u001b[0m__iter__\u001b[0m\u001b[0;34m(\u001b[0m\u001b[0mself\u001b[0m\u001b[0;34m)\u001b[0m\u001b[0;34m:\u001b[0m\u001b[0;34m\u001b[0m\u001b[0m\n",
      "\u001b[0;31mTypeError\u001b[0m: 'Series' objects are mutable, thus they cannot be hashed"
     ]
    }
   ],
   "source": [
    "case_resolutions = counts.sum(boston_311_data['case_status'])"
   ]
  },
  {
   "cell_type": "code",
   "execution_count": 346,
   "metadata": {},
   "outputs": [
    {
     "ename": "SyntaxError",
     "evalue": "unexpected EOF while parsing (<ipython-input-346-82053fe9815b>, line 1)",
     "output_type": "error",
     "traceback": [
      "\u001b[0;36m  File \u001b[0;32m\"<ipython-input-346-82053fe9815b>\"\u001b[0;36m, line \u001b[0;32m1\u001b[0m\n\u001b[0;31m    pd.Series(np.where(boston_311_data['ontime'].values == 'Closed', 1, 0),sample.index\u001b[0m\n\u001b[0m                                                                                       ^\u001b[0m\n\u001b[0;31mSyntaxError\u001b[0m\u001b[0;31m:\u001b[0m unexpected EOF while parsing\n"
     ]
    }
   ],
   "source": [
    "pd.Series(np.where(boston_311_data['ontime'].values == 'Closed', 1, 0),sample.index"
   ]
  },
  {
   "cell_type": "code",
   "execution_count": 61,
   "metadata": {},
   "outputs": [
    {
     "data": {
      "text/plain": [
       "<matplotlib.axes._subplots.AxesSubplot at 0x1a2e418cc0>"
      ]
     },
     "execution_count": 61,
     "metadata": {},
     "output_type": "execute_result"
    },
    {
     "data": {
      "image/png": "[encoded data removed]",
      "text/plain": [
       "<Figure size 432x288 with 1 Axes>"
      ]
     },
     "metadata": {},
     "output_type": "display_data"
    }
   ],
   "source": [
    "filtered_top_words.plot.bar()\n"
   ]
  },
  {
   "cell_type": "code",
   "execution_count": 62,
   "metadata": {},
   "outputs": [
    {
     "data": {
      "text/plain": [
       "<matplotlib.axes._subplots.AxesSubplot at 0x1a2e4d5940>"
      ]
     },
     "execution_count": 62,
     "metadata": {},
     "output_type": "execute_result"
    },
    {
     "data": {
      "image/png": "[encoded data removed]",
      "text/plain": [
       "<Figure size 432x288 with 1 Axes>"
      ]
     },
     "metadata": {},
     "output_type": "display_data"
    }
   ],
   "source": [
    "filtered_top_words.plot.hist(alpha=0.5)"
   ]
  },
  {
   "cell_type": "code",
   "execution_count": null,
   "metadata": {},
   "outputs": [],
   "source": [
    "plt.hist(rwd.pH.values,bins=[2.5, 2.7, 2.9, 3.1, 3.3, 3.5, 3.7, 3.9, 4.1, 4.3, 4.5],edgecolor = 'orange')\n",
    "plt.xlabel('pH', fontsize = 18)\n",
    "plt.ylabel('# of occurrences', fontsize = 18)\n",
    "plt.show()"
   ]
  },
  {
   "cell_type": "code",
   "execution_count": null,
   "metadata": {},
   "outputs": [],
   "source": [
    "sns.set(style=\"darkgrid\")\n",
    "ax = sns.countplot(x=\"Genre\", data=new_vgs)\n",
    "plt.xticks(rotation=-45)"
   ]
  },
  {
   "cell_type": "code",
   "execution_count": null,
   "metadata": {},
   "outputs": [],
   "source": [
    "genre_groups = new_vgs.pivot_table(index='Year', columns='Genre', values='Global_Sales', aggfunc='mean').plot()\n",
    "plt.ylabel('Global Sales');"
   ]
  },
  {
   "cell_type": "code",
   "execution_count": null,
   "metadata": {},
   "outputs": [],
   "source": [
    "group_data = boston_311_data.groupby(\"neighborhood\")\n",
    "group_data['beer_servings'].mean()"
   ]
  },
  {
   "cell_type": "code",
   "execution_count": null,
   "metadata": {},
   "outputs": [],
   "source": [
    "df_heatmap = boston_311_data.pivot_table(index='neighborhood', columns='beer_servings', values='total_litres_of_pure_alcohol', aggfunc=np.mean)\n",
    "sns.heatmap(df_heatmap, annot=True, fmt=\".1f\")\n",
    "plt.show()"
   ]
  }
 ],
 "metadata": {
  "kernelspec": {
   "display_name": "Python 3",
   "language": "python",
   "name": "python3"
  },
  "language_info": {
   "codemirror_mode": {
    "name": "ipython",
    "version": 3
   },
   "file_extension": ".py",
   "mimetype": "text/x-python",
   "name": "python",
   "nbconvert_exporter": "python",
   "pygments_lexer": "ipython3",
   "version": "3.8.5"
  }
 },
 "nbformat": 4,
 "nbformat_minor": 2
}
